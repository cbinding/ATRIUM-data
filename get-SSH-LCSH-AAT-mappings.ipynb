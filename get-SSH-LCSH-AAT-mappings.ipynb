{
 "cells": [
  {
   "cell_type": "markdown",
   "metadata": {},
   "source": [
    "This notebook demonstrates how we used Wikidata to derive direct mappings between SSH-LCSH vocabulary concepts and Getty AAT concepts"
   ]
  },
  {
   "cell_type": "code",
   "execution_count": 12,
   "metadata": {},
   "outputs": [],
   "source": [
    "# import required libraries\n",
    "import os\n",
    "from pyoxigraph import *\n",
    "from pathlib import Path\n",
    "from rdflib import Graph\n",
    "from SPARQLWrapper import SPARQLWrapper, RDFXML\n",
    "\n",
    "# function to run SPARQL query against specified endpoint\n",
    "# returnFormat supports \"xml\", \"n3\", \"turtle\", \"nt\", \"pretty-xml\", \"trix\", \"trig\", \"nquads\", \"json-ld\" and \"hext\"\n",
    "def querySparqlEndpoint(endpointURI: str=\"\", sparqlQuery: str=\"\", returnFormat: str=\"nt\"):\n",
    "  sparql = SPARQLWrapper(endpointURI)\n",
    "  sparql.setQuery(sparqlQuery)\n",
    "  sparql.setMethod(\"POST\")\n",
    "  sparql.setReturnFormat(RDFXML)\n",
    "  results = sparql.queryAndConvert()\n",
    "  return results.serialize(format=returnFormat) "
   ]
  },
  {
   "cell_type": "markdown",
   "metadata": {},
   "source": [
    "TRIPLE Vocabulary is an SSH multilingual vocabulary based on LCSH available at http://semantics.gr/authorities/vocabularies/SSH-LCSH<br>\n",
    "The site reports there are 3375 semantic resources (concepts). Get the SSH-LCSH vocabulary data and save as an NTriples format file"
   ]
  },
  {
   "cell_type": "code",
   "execution_count": 44,
   "metadata": {},
   "outputs": [],
   "source": [
    "# NOTE: their site not currently working...\n",
    "# the data as previously downloaded is cached here as ./data/SSH_LCSH.nt"
   ]
  },
  {
   "cell_type": "markdown",
   "metadata": {},
   "source": [
    "Query the Getty vocabularies SPARQL endpoint (https://vocab.getty.edu/sparql) to retrieve Art &amp; Architecture Thesaurus (AAT) concept URIs with associated preferred labels (English). These labels are only used for convenient review of the mappings produced later. 116342 triples returned (17/04/2024) (at 2 triples per record = 58171 records)"
   ]
  },
  {
   "cell_type": "code",
   "execution_count": null,
   "metadata": {},
   "outputs": [],
   "source": [
    "# Getty AAT SPARQL query to get prefLabels (English) for each Concept (saved as NTriples output)\n",
    "query = \"\"\"\n",
    "PREFIX skos: <http://www.w3.org/2004/02/skos/core#>\n",
    "PREFIX gvp: <http://vocab.getty.edu/ontology#>\n",
    "CONSTRUCT { \n",
    "  ?uri skos:prefLabel ?lbl . \n",
    "  ?uri a gvp:Concept .\n",
    "}\n",
    "#SELECT ?uri (STR(?lbl) AS ?label) \n",
    "WHERE {\n",
    " ?uri a gvp:Concept; skos:inScheme aat:; \n",
    "\tgvp:prefLabelGVP [gvp:term ?lbl] .\n",
    " FILTER(langMatches(lang(?lbl), \"en\"))\n",
    "}\n",
    "\"\"\"\n",
    "results = querySparqlEndpoint(endpointURI=\"https://vocab.getty.edu/sparql\", sparqlQuery=query)\n",
    "with open(\"./data/AAT-prefLabels.nt\", \"w\") as file: \n",
    "  file.write(results)"
   ]
  },
  {
   "cell_type": "markdown",
   "metadata": {},
   "source": [
    "Query the Wikidata SPARQL endpoint (https://query.wikidata.org/) to retrieve &lt;LCSH URI&gt; skos:closeMatch &lt;AAT URI&gt; mappings and save them to an NTriples format file (7937 triples returned, 17/04/2024). The mappings are generated from Wikidata records having both LCSH and AAT identifiers. Note: Wikidata LCSH URIs are prefixed 'http://id.loc.gov/authorities/names/' but we need the URIs prefixed 'http://id.loc.gov/authorities/subjects/' to match the LCSH URIs as referenced in SSH-LCSH vocabulary - this is achieved here by concatenating the correct prefix to the LCSH concept identifier "
   ]
  },
  {
   "cell_type": "code",
   "execution_count": 20,
   "metadata": {},
   "outputs": [],
   "source": [
    "# Wikidata SPARQL query to generate LCSH-closeMatch-AAT mappings (saved as NTriples output)\n",
    "query = \"\"\"\n",
    "PREFIX skos: <http://www.w3.org/2004/02/skos/core#>\n",
    "PREFIX gvp: <http://vocab.getty.edu/ontology#>\n",
    "CONSTRUCT { ?lcsh_uri skos:closeMatch ?aat_uri }\n",
    "WHERE { \n",
    "  ?wd_uri wdt:P244 ?lcsh_id; wdtn:P1014 ?aat_uri .\n",
    "  BIND(IRI(CONCAT('http://id.loc.gov/authorities/subjects/', ?lcsh_id)) AS ?lcsh_uri) .\n",
    "}\n",
    "\"\"\"\n",
    "results = querySparqlEndpoint(endpointURI=\"https://query.wikidata.org/sparql\", sparqlQuery=query)\n",
    "with open(\"./data/LCSH-closeMatch-AAT.nt\", \"w\") as file: \n",
    "  file.write(results)"
   ]
  },
  {
   "cell_type": "markdown",
   "metadata": {},
   "source": [
    "Combine the SSH-LCSH vocabulary, the AAT data and the LCSH-closeMatch-AAT mappings to an rdflib graph. Use the LCSH-closeMatch-AAT mappings to produce SSH-closeMatch-AAT mappings. Save results to an NTriples RDF file. (392 mappings created, 17/04/2024)"
   ]
  },
  {
   "cell_type": "code",
   "execution_count": 21,
   "metadata": {},
   "outputs": [
    {
     "data": {
      "text/plain": [
       "<Graph identifier=N66c1cf75c84241c2a89704b5a18bd50a (<class 'rdflib.graph.Graph'>)>"
      ]
     },
     "execution_count": 21,
     "metadata": {},
     "output_type": "execute_result"
    }
   ],
   "source": [
    "\n",
    "graph = Graph(store=\"Oxigraph\") # speed advantage over plain rdflib.Graph\n",
    "# first time create the store:\n",
    "#graph.open('./data/myRDFLibStore', create=True)\n",
    "\n",
    "#graph = Graph()\n",
    "graph.parse(\"./data/SSH-LCSH.nt\")\n",
    "graph.parse(\"./data/AAT-prefLabels.nt\")\n",
    "graph.parse(\"./data/LCSH-closeMatch-AAT.nt\")\n",
    "\n",
    "query = \"\"\"\n",
    "  PREFIX skos: <http://www.w3.org/2004/02/skos/core#>\n",
    "  PREFIX gvp: <http://vocab.getty.edu/ontology#>\n",
    "  CONSTRUCT { ?ssh skos:closeMatch ?aat }\n",
    "  WHERE {\n",
    "    ?ssh a skos:Concept; skos:exactMatch ?lcsh .\n",
    "    ?lcsh skos:closeMatch ?aat .\n",
    "    ?aat a gvp:Concept .\n",
    "}\n",
    "\"\"\"\n",
    "results = graph.query(query)\n",
    "results.serialize(destination=\"./data/SSH-LCSH-closeMatch-AAT.nt\", format=\"nt\")\n",
    "# add the resultant (392) mappings to the existing graph\n",
    "graph.parse(\"./data/SSH-LCSH-closeMatch-AAT.nt\")"
   ]
  },
  {
   "cell_type": "code",
   "execution_count": 39,
   "metadata": {},
   "outputs": [
    {
     "name": "stdout",
     "output_type": "stream",
     "text": [
      "665\n"
     ]
    }
   ],
   "source": [
    "import json\n",
    "\n",
    "def countUnmappedConcepts():\n",
    "    # check how many SSH-LCSH concepts do NOT yet have any mapping to AAT\n",
    "    query = \"\"\"\n",
    "        PREFIX skos: <http://www.w3.org/2004/02/skos/core#>\n",
    "        PREFIX gvp: <http://vocab.getty.edu/ontology#>\n",
    "        SELECT (COUNT(DISTINCT ?uri) AS ?counter) WHERE {\n",
    "        ?uri a skos:Concept .\n",
    "        MINUS { ?uri ?property [a gvp:Concept] }\n",
    "        }\n",
    "    \"\"\"\n",
    "    results = graph.query(query)\n",
    "    # we only want the count returned (maybe a better way to do this?)\n",
    "    for result in results:\n",
    "        return result[0]\n",
    "        break    \n",
    "\n",
    "counter = countUnmappedConcepts()\n",
    "print(counter)\n",
    "\n",
    "# 17/04/2024 - returns 2982 (88.4%), so 393 (11.6%) successfully mapped"
   ]
  },
  {
   "cell_type": "code",
   "execution_count": 25,
   "metadata": {},
   "outputs": [
    {
     "data": {
      "text/plain": [
       "<Graph identifier=N66c1cf75c84241c2a89704b5a18bd50a (<class 'rdflib.graph.Graph'>)>"
      ]
     },
     "execution_count": 25,
     "metadata": {},
     "output_type": "execute_result"
    }
   ],
   "source": [
    "# create skos:broadMatch relationships for concepts\n",
    "# not yet mapped, using vocabulary broader relationship\n",
    "query = \"\"\"\n",
    "  PREFIX skos: <http://www.w3.org/2004/02/skos/core#>\n",
    "  PREFIX gvp: <http://vocab.getty.edu/ontology#>\n",
    "  CONSTRUCT { ?uri skos:broadMatch ?aat_uri }\n",
    "  WHERE {\n",
    "    ?uri a skos:Concept; skos:broader ?broader_uri .\n",
    "    ?broader_uri a skos:Concept; skos:closeMatch ?aat_uri .\n",
    "    ?aat_uri a gvp:Concept .\n",
    "    MINUS { ?uri ?property [a gvp:Concept] }\n",
    "  }\n",
    "\"\"\"\n",
    "results = graph.query(query)\n",
    "results.serialize(destination=\"./data/SSH-LCSH-broadMatch-AAT.nt\", format=\"nt\")\n",
    "# add the resultant (3347, 17/04/2024) mappings to the existing graph\n",
    "graph.parse(\"./data/SSH-LCSH-broadMatch-AAT.nt\")"
   ]
  },
  {
   "cell_type": "code",
   "execution_count": 40,
   "metadata": {},
   "outputs": [
    {
     "name": "stdout",
     "output_type": "stream",
     "text": [
      "665\n"
     ]
    }
   ],
   "source": [
    "counter = countUnmappedConcepts()\n",
    "print(counter)\n",
    "# 17/04/2024 - returns 665 (19.7%), so 2710 (80.3%) successfully mapped\n"
   ]
  },
  {
   "cell_type": "code",
   "execution_count": 41,
   "metadata": {},
   "outputs": [
    {
     "data": {
      "text/plain": [
       "<Graph identifier=N66c1cf75c84241c2a89704b5a18bd50a (<class 'rdflib.graph.Graph'>)>"
      ]
     },
     "execution_count": 41,
     "metadata": {},
     "output_type": "execute_result"
    }
   ],
   "source": [
    "# create skos:broadMatch relationships  for concepts\n",
    "# not yet mapped, using TWO steps of broader relationship \n",
    "query = \"\"\"\n",
    "    PREFIX skos: <http://www.w3.org/2004/02/skos/core#>\n",
    "    PREFIX gvp: <http://vocab.getty.edu/ontology#>\n",
    "    CONSTRUCT { ?uri skos:broadMatch ?aat_uri }\n",
    "    WHERE {\n",
    "    ?uri a skos:Concept; skos:broader/skos:broader ?broader_uri .\n",
    "    ?broader_uri a skos:Concept; skos:closeMatch ?aat_uri .\n",
    "    ?aat_uri a gvp:Concept .\n",
    "    MINUS { ?uri ?property [a gvp:Concept] }\n",
    "    }\n",
    "\"\"\"\n",
    "results = graph.query(query)\n",
    "results.serialize(destination=\"./data/SSH-LCSH-broadbroadMatch-AAT.nt\", format=\"nt\")\n",
    "# add the resultant (367, 17/04/2024) mappings to the existing graph\n",
    "graph.parse(\"./data/SSH-LCSH-broadbroadMatch-AAT.nt\")"
   ]
  },
  {
   "cell_type": "code",
   "execution_count": 43,
   "metadata": {},
   "outputs": [
    {
     "name": "stdout",
     "output_type": "stream",
     "text": [
      "398\n"
     ]
    }
   ],
   "source": [
    "counter = countUnmappedConcepts()\n",
    "print(counter)\n",
    "# 17/04/2024 - returns 398 (11.8%), so 2977 (88.2%) successfully mapped"
   ]
  },
  {
   "cell_type": "code",
   "execution_count": null,
   "metadata": {},
   "outputs": [],
   "source": [
    "# list the mappings created (for review) (TODO: not tested in notebook yet, and output to DataFrame)\n",
    "query = \"\"\"\n",
    "    PREFIX skos: <http://www.w3.org/2004/02/skos/core#>\n",
    "    PREFIX gvp: <http://vocab.getty.edu/ontology#>\n",
    "    SELECT DISTINCT ?ssh (str(?ssh_lbl) AS ?ssh_label) ?rel ?aat (str(?aat_lbl) AS ?aat_label)\n",
    "    WHERE {\n",
    "    ?ssh a skos:Concept . \n",
    "    ?aat a gvp:Concept .\n",
    "    ?ssh ?rel ?aat .\n",
    "    OPTIONAL { \n",
    "        ?ssh skos:prefLabel ?ssh_lbl . \n",
    "        FILTER(langMatches(lang(?ssh_lbl), \"en\")) \n",
    "    }\n",
    "    OPTIONAL { \n",
    "        ?aat skos:prefLabel ?aat_lbl . \n",
    "        FILTER(langMatches(lang(?aat_lbl), \"en\")) \n",
    "    }\n",
    "    }\n",
    "\"\"\"\n",
    "results = graph.query(query)\n",
    "results.serialize(destination=\"./data/SSH-LCSH-matched-AAT.csv\", format=\"csv\")"
   ]
  },
  {
   "cell_type": "code",
   "execution_count": null,
   "metadata": {},
   "outputs": [],
   "source": [
    "# list the remaining records not mapped (TODO: not tested in notebook yet, and output to DataFRame)\n",
    "query = \"\"\"\n",
    "    PREFIX skos: <http://www.w3.org/2004/02/skos/core#>\n",
    "    PREFIX gvp: <http://vocab.getty.edu/ontology#>\n",
    "    SELECT DISTINCT ?uri (str(?lbl) AS ?label) WHERE {\n",
    "    ?uri a skos:Concept .\n",
    "    OPTIONAL { \n",
    "        ?uri skos:prefLabel ?lbl . \n",
    "        FILTER(langMatches(lang(?lbl), \"en\")) \n",
    "    }\n",
    "    MINUS { ?uri ?property [a gvp:Concept] }\n",
    "    }\n",
    "\"\"\"\n",
    "results = graph.query(query)\n",
    "results.serialize(destination=\"./data/SSH-LCSH-nomatch-AAT.csv\", format=\"csv\")"
   ]
  },
  {
   "cell_type": "code",
   "execution_count": null,
   "metadata": {},
   "outputs": [],
   "source": [
    "# get the generated mappings as RDF NTriples (TODO: not tested in notebook yet)\n",
    "query = \"\"\"\n",
    "    PREFIX skos: <http://www.w3.org/2004/02/skos/core#>\n",
    "    PREFIX gvp: <http://vocab.getty.edu/ontology#>\n",
    "    CONSTRUCT { ?ssh ?rel ?aat }\n",
    "    WHERE {\n",
    "    ?ssh a skos:Concept . \n",
    "    ?aat a gvp:Concept .\n",
    "    ?ssh ?rel ?aat . \n",
    "    } \n",
    "\"\"\"\n",
    "results = graph.query(query)\n",
    "results.serialize(destination=\"./data/SSH-LCSH-match-AAT.nt\", format=\"nt\")\n"
   ]
  }
 ],
 "metadata": {
  "kernelspec": {
   "display_name": "Python 3",
   "language": "python",
   "name": "python3"
  },
  "language_info": {
   "codemirror_mode": {
    "name": "ipython",
    "version": 3
   },
   "file_extension": ".py",
   "mimetype": "text/x-python",
   "name": "python",
   "nbconvert_exporter": "python",
   "pygments_lexer": "ipython3",
   "version": "3.12.3"
  }
 },
 "nbformat": 4,
 "nbformat_minor": 2
}
