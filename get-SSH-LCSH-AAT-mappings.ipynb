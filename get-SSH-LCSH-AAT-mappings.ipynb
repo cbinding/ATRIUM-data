{
 "cells": [
  {
   "cell_type": "markdown",
   "metadata": {},
   "source": [
    "This notebook demonstrates how we used Wikidata to derive direct mappings between SSH-LCSH vocabulary concepts and Getty AAT concepts"
   ]
  },
  {
   "cell_type": "code",
   "execution_count": 72,
   "metadata": {},
   "outputs": [],
   "source": [
    "\"\"\"\n",
    "=============================================================================\n",
    "Module    : get-SSH-LCSH-AAT-mappings.ipynb\n",
    "Classes   : \n",
    "Project   : ATRIUM\n",
    "Creator   : Ceri Binding, University of South Wales / Prifysgol de Cymru\n",
    "Contact   : ceri.binding@southwales.ac.uk\n",
    "Summary   : Python notebook demonstrating use of Wikidata to derive vocab mappings\n",
    "Imports   : os, requests, pyoxigraph, pathlib, rdflib, SPARQLWrapper, datetime\n",
    "License   : https://github.com/cbinding/ATRIUM-data/blob/main/LICENSE.txt\n",
    "=============================================================================\n",
    "History\n",
    "18/042/2024 CFB Initially created script\n",
    "=============================================================================\n",
    "\"\"\"\n",
    "# import required libraries\n",
    "import os\n",
    "import requests\n",
    "from pyoxigraph import *\n",
    "from pathlib import Path\n",
    "from rdflib import Graph, ConjunctiveGraph\n",
    "from SPARQLWrapper import SPARQLWrapper, RDFXML\n",
    "from datetime import datetime as DT\n",
    "\n",
    "# function to run SPARQL query against specified endpoint\n",
    "# returnFormat supports \"xml\", \"n3\", \"turtle\", \"nt\", \"pretty-xml\", \"trix\", \"trig\", \"nquads\", \"json-ld\" and \"hext\"\n",
    "def querySparqlEndpoint(endpointURI: str=\"\", sparqlQuery: str=\"\", returnFormat: str=\"nt\"):\n",
    "  sparql = SPARQLWrapper(endpointURI)\n",
    "  sparql.setQuery(sparqlQuery)\n",
    "  sparql.setMethod(\"POST\")\n",
    "  sparql.setReturnFormat(RDFXML)\n",
    "  results = sparql.queryAndConvert()\n",
    "  return results.serialize(format=returnFormat) \n",
    "\n",
    "def timestamp():\n",
    "  return DT.now().strftime('%Y-%m-%dT%H:%M:%SZ')  "
   ]
  },
  {
   "cell_type": "markdown",
   "metadata": {},
   "source": [
    "TRIPLE Vocabulary is an SSH multilingual vocabulary based on LCSH available at https://www.semantics.gr/authorities/vocabularies/SSH-LCSH?language=en<br>\n",
    "The site reports there are 3375 semantic resources (concepts). Get the SSH-LCSH vocabulary NTriples format data and save to a local file"
   ]
  },
  {
   "cell_type": "code",
   "execution_count": 73,
   "metadata": {},
   "outputs": [
    {
     "name": "stdout",
     "output_type": "stream",
     "text": [
      "[last run 2024-04-18T11:45:24Z]\n"
     ]
    }
   ],
   "source": [
    "url = \"https://www.semantics.gr/authorities/vocabularies/SSH-LCSH/n-triples\"\n",
    "response = requests.get(url, timeout=30)\n",
    "with open(\"./data/SSH-LCSH.nt\", \"w\") as file:\n",
    "    file.write(response.text)\n",
    "\n",
    "print(f\"[last run {timestamp()}]\")"
   ]
  },
  {
   "cell_type": "markdown",
   "metadata": {},
   "source": [
    "Query the Getty vocabularies SPARQL endpoint (https://vocab.getty.edu/sparql) to retrieve Art &amp; Architecture Thesaurus (AAT) concept URIs with associated preferred labels (English). These labels are used for review of the mappings produced later. (Note results reported here are min 2 triples per concept)"
   ]
  },
  {
   "cell_type": "code",
   "execution_count": 74,
   "metadata": {},
   "outputs": [
    {
     "name": "stdout",
     "output_type": "stream",
     "text": [
      "116343 results [last run 2024-04-18T11:45:37Z]\n"
     ]
    }
   ],
   "source": [
    "# Getty AAT SPARQL query to get prefLabels (English) for each Concept (saved as NTriples output)\n",
    "query = \"\"\"\n",
    "PREFIX skos: <http://www.w3.org/2004/02/skos/core#>\n",
    "PREFIX gvp: <http://vocab.getty.edu/ontology#>\n",
    "CONSTRUCT { \n",
    "  ?uri skos:prefLabel ?lbl . \n",
    "  ?uri a gvp:Concept .\n",
    "}\n",
    "#SELECT ?uri (STR(?lbl) AS ?label) \n",
    "WHERE {\n",
    " ?uri a gvp:Concept; skos:inScheme aat:; \n",
    "\tgvp:prefLabelGVP [gvp:term ?lbl] .\n",
    " FILTER(langMatches(lang(?lbl), \"en\"))\n",
    "}\n",
    "\"\"\"\n",
    "results = querySparqlEndpoint(endpointURI=\"https://vocab.getty.edu/sparql\", sparqlQuery=query)\n",
    "with open(\"./data/AAT-prefLabels.nt\", \"w\") as file: \n",
    "  file.write(results)\n",
    "  \n",
    "print(f\"{len(results.split(\"\\n\"))} results [last run {timestamp()}]\")"
   ]
  },
  {
   "cell_type": "markdown",
   "metadata": {},
   "source": [
    "Query the Wikidata SPARQL endpoint (https://query.wikidata.org/) to retrieve &lt;LCSH URI&gt; skos:closeMatch &lt;AAT URI&gt; mappings and save them to an NTriples format file (7937 triples returned, 17/04/2024). The mappings are generated from Wikidata records having both LCSH and AAT identifiers. Note: Wikidata LCSH URIs retrieved using the wdtn:P244 property are prefixed 'http://id.loc.gov/authorities/names/' - but this appears to be a mistake when referring to subject terms (e.g. http://www.wikidata.org/entity/Q167555 references http://id.loc.gov/authorities/names/sh85095140 but this should be http://id.loc.gov/authorities/subjects/sh85095140). In order to match the LCSH URIs as (correctly) referenced in SSH-LCSH vocabulary, we concatenate the correct prefix to the LCSH concept identifier, instead of using the URI retrieved from Wikidata."
   ]
  },
  {
   "cell_type": "code",
   "execution_count": 75,
   "metadata": {},
   "outputs": [
    {
     "name": "stdout",
     "output_type": "stream",
     "text": [
      "7939 results [last run 2024-04-18T11:45:38Z]\n"
     ]
    }
   ],
   "source": [
    "# Wikidata SPARQL query to generate LCSH-closeMatch-AAT mappings (saved as NTriples output)\n",
    "query = \"\"\"\n",
    "PREFIX skos: <http://www.w3.org/2004/02/skos/core#>\n",
    "PREFIX gvp: <http://vocab.getty.edu/ontology#>\n",
    "CONSTRUCT { ?lcsh_uri skos:closeMatch ?aat_uri }\n",
    "WHERE { \n",
    "  ?wd_uri wdt:P244 ?lcsh_id; wdtn:P1014 ?aat_uri .\n",
    "  BIND(IRI(CONCAT('http://id.loc.gov/authorities/subjects/', ?lcsh_id)) AS ?lcsh_uri) .\n",
    "}\n",
    "\"\"\"\n",
    "results = querySparqlEndpoint(endpointURI=\"https://query.wikidata.org/sparql\", sparqlQuery=query)\n",
    "with open(\"./data/LCSH-closeMatch-AAT.nt\", \"w\") as file: \n",
    "  file.write(results)\n",
    "  \n",
    "print(f\"{len(results.split(\"\\n\"))} results [last run {timestamp()}]\")"
   ]
  },
  {
   "cell_type": "markdown",
   "metadata": {},
   "source": [
    "Combine the SSH-LCSH vocabulary, the AAT data and the LCSH-closeMatch-AAT mappings to an rdflib graph. "
   ]
  },
  {
   "cell_type": "code",
   "execution_count": 76,
   "metadata": {},
   "outputs": [
    {
     "data": {
      "text/plain": [
       "<Graph identifier=Nccb6d01817cd479bbe0b8437ae1cf9cd (<class 'rdflib.graph.Graph'>)>"
      ]
     },
     "execution_count": 76,
     "metadata": {},
     "output_type": "execute_result"
    }
   ],
   "source": [
    "\n",
    "graph = Graph(store=\"Oxigraph\") # speed advantage over plain rdflib.Graph\n",
    "#graph = ConjunctiveGraph(store=\"Oxigraph\")\n",
    "graph.parse(\"./data/SSH-LCSH.nt\")\n",
    "graph.parse(\"./data/AAT-prefLabels.nt\")\n",
    "graph.parse(\"./data/LCSH-closeMatch-AAT.nt\")\n"
   ]
  },
  {
   "cell_type": "markdown",
   "metadata": {},
   "source": [
    "Use the LCSH-closeMatch-AAT mappings to produce SSH-closeMatch-AAT mappings. Save results to an NTriples RDF file."
   ]
  },
  {
   "cell_type": "code",
   "execution_count": 77,
   "metadata": {},
   "outputs": [
    {
     "name": "stdout",
     "output_type": "stream",
     "text": [
      "392 results [last run 2024-04-18T11:45:57Z]\n"
     ]
    }
   ],
   "source": [
    "query = \"\"\"\n",
    "  PREFIX skos: <http://www.w3.org/2004/02/skos/core#>\n",
    "  PREFIX gvp: <http://vocab.getty.edu/ontology#>\n",
    "  CONSTRUCT { ?ssh_uri skos:closeMatch ?aat_uri }\n",
    "  WHERE {\n",
    "    ?ssh_uri a skos:Concept; skos:exactMatch ?lcsh_uri .\n",
    "    ?lcsh_uri skos:closeMatch ?aat_uri .\n",
    "    ?aat_uri a gvp:Concept .\n",
    "}\n",
    "\"\"\"\n",
    "results = graph.query(query)\n",
    "results.serialize(destination=\"./data/SSH-LCSH-closeMatch-AAT.nt\", format=\"nt\")\n",
    "\n",
    "# add the resultant mappings to the existing graph\n",
    "graph.parse(\"./data/SSH-LCSH-closeMatch-AAT.nt\")\n",
    "\n",
    "print(f\"{len(results)} results [last run {timestamp()}]\")\n"
   ]
  },
  {
   "cell_type": "code",
   "execution_count": 78,
   "metadata": {},
   "outputs": [
    {
     "name": "stdout",
     "output_type": "stream",
     "text": [
      "2982 unmapped concepts [last run 2024-04-18T11:45:58Z]\n"
     ]
    }
   ],
   "source": [
    "def countUnmappedConcepts():\n",
    "    # count SSH-LCSH concepts with no mapping to AAT\n",
    "    query = \"\"\"\n",
    "        PREFIX skos: <http://www.w3.org/2004/02/skos/core#>\n",
    "        PREFIX gvp: <http://vocab.getty.edu/ontology#>\n",
    "        SELECT (COUNT(DISTINCT ?ssh_uri) AS ?counter) WHERE {\n",
    "        ?ssh_uri a skos:Concept .\n",
    "        MINUS { ?ssh_uri ?property [a gvp:Concept] }\n",
    "        }\n",
    "    \"\"\"\n",
    "    results = graph.query(query)\n",
    "    # we only want the count returned (maybe a better way to do this?)\n",
    "    for result in results:\n",
    "        return result[0]\n",
    "        break    \n",
    "\n",
    "print(f\"{countUnmappedConcepts()} unmapped concepts [last run {timestamp()}]\")\n",
    "# 17/04/2024 - returns 2982 (88.4%), so 393 (11.6%) successfully mapped"
   ]
  },
  {
   "cell_type": "code",
   "execution_count": 79,
   "metadata": {},
   "outputs": [
    {
     "name": "stdout",
     "output_type": "stream",
     "text": [
      "3347 results [last run 2024-04-18T11:45:58Z]\n"
     ]
    }
   ],
   "source": [
    "# create skos:broadMatch relationships for concepts\n",
    "# not yet mapped, using vocabulary broader relationship\n",
    "query = \"\"\"\n",
    "  PREFIX skos: <http://www.w3.org/2004/02/skos/core#>\n",
    "  PREFIX gvp: <http://vocab.getty.edu/ontology#>\n",
    "  CONSTRUCT { ?ssh_uri skos:broadMatch ?aat_uri }\n",
    "  WHERE {\n",
    "    ?ssh_uri a skos:Concept; skos:broader ?broader_uri .\n",
    "    ?broader_uri a skos:Concept; skos:closeMatch ?aat_uri .\n",
    "    ?aat_uri a gvp:Concept .\n",
    "    MINUS { ?ssh_uri ?property [a gvp:Concept] }\n",
    "  }\n",
    "\"\"\"\n",
    "results = graph.query(query)\n",
    "results.serialize(destination=\"./data/SSH-LCSH-broadMatch-AAT.nt\", format=\"nt\")\n",
    "# add the resultant mappings to the existing graph\n",
    "graph.parse(\"./data/SSH-LCSH-broadMatch-AAT.nt\")\n",
    "\n",
    "print(f\"{len(results)} results [last run {timestamp()}]\")"
   ]
  },
  {
   "cell_type": "code",
   "execution_count": 80,
   "metadata": {},
   "outputs": [
    {
     "name": "stdout",
     "output_type": "stream",
     "text": [
      "665 unmapped concepts [last run 2024-04-18T11:45:59Z]\n"
     ]
    }
   ],
   "source": [
    "print(f\"{countUnmappedConcepts()} unmapped concepts [last run {timestamp()}]\")\n",
    "# 17/04/2024 - returns 665 (19.7%), so 2710 (80.3%) successfully mapped\n"
   ]
  },
  {
   "cell_type": "code",
   "execution_count": 81,
   "metadata": {},
   "outputs": [
    {
     "name": "stdout",
     "output_type": "stream",
     "text": [
      "367 results [last run 2024-04-18T11:45:59Z]\n"
     ]
    }
   ],
   "source": [
    "# create skos:broadMatch relationships  for concepts\n",
    "# not yet mapped, using TWO steps of broader relationship \n",
    "query = \"\"\"\n",
    "    PREFIX skos: <http://www.w3.org/2004/02/skos/core#>\n",
    "    PREFIX gvp: <http://vocab.getty.edu/ontology#>\n",
    "    CONSTRUCT { ?ssh_uri skos:broadMatch ?aat_uri }\n",
    "    WHERE {\n",
    "    ?ssh_uri a skos:Concept; skos:broader/skos:broader ?broader_uri .\n",
    "    ?broader_uri a skos:Concept; skos:closeMatch ?aat_uri .\n",
    "    ?aat_uri a gvp:Concept .\n",
    "    MINUS { ?ssh_uri ?property [a gvp:Concept] }\n",
    "    }\n",
    "\"\"\"\n",
    "results = graph.query(query)\n",
    "results.serialize(destination=\"./data/SSH-LCSH-broadbroadMatch-AAT.nt\", format=\"nt\")\n",
    "# add the resultant mappings to the existing graph\n",
    "graph.parse(\"./data/SSH-LCSH-broadbroadMatch-AAT.nt\")\n",
    "\n",
    "print(f\"{len(results)} results [last run {timestamp()}]\")"
   ]
  },
  {
   "cell_type": "code",
   "execution_count": 82,
   "metadata": {},
   "outputs": [
    {
     "name": "stdout",
     "output_type": "stream",
     "text": [
      "398 unmapped concepts [last run 2024-04-18T11:45:59Z]\n"
     ]
    }
   ],
   "source": [
    "print(f\"{countUnmappedConcepts()} unmapped concepts [last run {timestamp()}]\")\n",
    "# 17/04/2024 - returns 398 (11.8%), so 2977 (88.2%) successfully mapped"
   ]
  },
  {
   "cell_type": "code",
   "execution_count": 83,
   "metadata": {},
   "outputs": [
    {
     "name": "stdout",
     "output_type": "stream",
     "text": [
      "4138 mappings [last run 2024-04-18T11:46:00Z]\n"
     ]
    }
   ],
   "source": [
    "# list the mappings created (for review)\n",
    "query = \"\"\"\n",
    "    PREFIX skos: <http://www.w3.org/2004/02/skos/core#>\n",
    "    PREFIX gvp: <http://vocab.getty.edu/ontology#>\n",
    "    SELECT DISTINCT ?ssh_uri (str(?ssh_lbl) AS ?ssh_label) ?rel ?aat_uri (str(?aat_lbl) AS ?aat_label)    \n",
    "    WHERE {\n",
    "        ?ssh_uri skos:closeMatch|skos:broadMatch ?aat_uri . \n",
    "        ?ssh_uri a skos:Concept .\n",
    "        ?aat_uri a gvp:Concept .         \n",
    "        ?ssh_uri ?rel ?aat_uri .        \n",
    "        OPTIONAL { \n",
    "            ?ssh_uri skos:prefLabel ?ssh_lbl . \n",
    "            FILTER(langMatches(lang(?ssh_lbl), \"en\")) \n",
    "        }\n",
    "        OPTIONAL { \n",
    "            ?aat_uri skos:prefLabel ?aat_lbl . \n",
    "            FILTER(langMatches(lang(?aat_lbl), \"en\")) \n",
    "        }\n",
    "    }\n",
    "\"\"\"\n",
    "mappings = graph.query(query)\n",
    "mappings.serialize(destination=\"./data/SSH-LCSH-matched-AAT.csv\", format=\"csv\")\n",
    "\n",
    "print(f\"{len(mappings)} mappings [last run {timestamp()}]\")"
   ]
  },
  {
   "cell_type": "code",
   "execution_count": 84,
   "metadata": {},
   "outputs": [
    {
     "data": {
      "text/html": [
       "<table border=\"1\" class=\"dataframe\">\n",
       "  <tbody>\n",
       "    <tr>\n",
       "      <td>http://semantics.gr/authorities/SSH-LCSH/sh85028889</td>\n",
       "      <td></td>\n",
       "      <td>http://www.w3.org/2004/02/skos/core#closeMatch</td>\n",
       "      <td>http://vocab.getty.edu/aat/300055912</td>\n",
       "      <td>commedia dell'arte</td>\n",
       "    </tr>\n",
       "    <tr>\n",
       "      <td>http://semantics.gr/authorities/SSH-LCSH/sh85081863</td>\n",
       "      <td>Mass media</td>\n",
       "      <td>http://www.w3.org/2004/02/skos/core#closeMatch</td>\n",
       "      <td>http://vocab.getty.edu/aat/300055812</td>\n",
       "      <td>mass media</td>\n",
       "    </tr>\n",
       "    <tr>\n",
       "      <td>http://semantics.gr/authorities/SSH-LCSH/sh85067272</td>\n",
       "      <td>Interior decoration</td>\n",
       "      <td>http://www.w3.org/2004/02/skos/core#closeMatch</td>\n",
       "      <td>http://vocab.getty.edu/aat/300161596</td>\n",
       "      <td>interior decoration</td>\n",
       "    </tr>\n",
       "    <tr>\n",
       "      <td>http://semantics.gr/authorities/SSH-LCSH/sh85066150</td>\n",
       "      <td>Information science</td>\n",
       "      <td>http://www.w3.org/2004/02/skos/core#closeMatch</td>\n",
       "      <td>http://vocab.getty.edu/aat/300054574</td>\n",
       "      <td>information science</td>\n",
       "    </tr>\n",
       "    <tr>\n",
       "      <td>http://semantics.gr/authorities/SSH-LCSH/sh85076723</td>\n",
       "      <td>Library science</td>\n",
       "      <td>http://www.w3.org/2004/02/skos/core#closeMatch</td>\n",
       "      <td>http://vocab.getty.edu/aat/300054576</td>\n",
       "      <td>library science</td>\n",
       "    </tr>\n",
       "    <tr>\n",
       "      <td>http://semantics.gr/authorities/SSH-LCSH/sh85108411</td>\n",
       "      <td>Psychoanalysis</td>\n",
       "      <td>http://www.w3.org/2004/02/skos/core#closeMatch</td>\n",
       "      <td>http://vocab.getty.edu/aat/300054450</td>\n",
       "      <td>psychoanalysis</td>\n",
       "    </tr>\n",
       "    <tr>\n",
       "      <td>http://semantics.gr/authorities/SSH-LCSH/sh85148092</td>\n",
       "      <td>Word (Linguistics)</td>\n",
       "      <td>http://www.w3.org/2004/02/skos/core#closeMatch</td>\n",
       "      <td>http://vocab.getty.edu/aat/300250895</td>\n",
       "      <td>words</td>\n",
       "    </tr>\n",
       "    <tr>\n",
       "      <td>http://semantics.gr/authorities/SSH-LCSH/sh85036316</td>\n",
       "      <td>Decorative arts</td>\n",
       "      <td>http://www.w3.org/2004/02/skos/core#closeMatch</td>\n",
       "      <td>http://vocab.getty.edu/aat/300054168</td>\n",
       "      <td>decorative arts</td>\n",
       "    </tr>\n",
       "    <tr>\n",
       "      <td>http://semantics.gr/authorities/SSH-LCSH/sh85119950</td>\n",
       "      <td>Semiotics</td>\n",
       "      <td>http://www.w3.org/2004/02/skos/core#closeMatch</td>\n",
       "      <td>http://vocab.getty.edu/aat/300054254</td>\n",
       "      <td>semiotics</td>\n",
       "    </tr>\n",
       "    <tr>\n",
       "      <td>http://semantics.gr/authorities/SSH-LCSH/sh85015738</td>\n",
       "      <td>Books</td>\n",
       "      <td>http://www.w3.org/2004/02/skos/core#closeMatch</td>\n",
       "      <td>http://vocab.getty.edu/aat/300028051</td>\n",
       "      <td>books</td>\n",
       "    </tr>\n",
       "    <tr>\n",
       "      <td>http://semantics.gr/authorities/SSH-LCSH/sh85006611</td>\n",
       "      <td>Architecture</td>\n",
       "      <td>http://www.w3.org/2004/02/skos/core#closeMatch</td>\n",
       "      <td>http://vocab.getty.edu/aat/300263552</td>\n",
       "      <td>architecture</td>\n",
       "    </tr>\n",
       "    <tr>\n",
       "      <td>http://semantics.gr/authorities/SSH-LCSH/sh89004185</td>\n",
       "      <td>Puppet theater</td>\n",
       "      <td>http://www.w3.org/2004/02/skos/core#closeMatch</td>\n",
       "      <td>http://vocab.getty.edu/aat/300248147</td>\n",
       "      <td>puppetry</td>\n",
       "    </tr>\n",
       "    <tr>\n",
       "      <td>...</td>\n",
       "      <td>...</td>\n",
       "      <td>...</td>\n",
       "      <td>...</td>\n",
       "      <td>...</td>\n",
       "    </tr>\n",
       "    <tr>\n",
       "      <td>http://semantics.gr/authorities/SSH-LCSH/sh94008300</td>\n",
       "      <td>Motion pictures in archaeology</td>\n",
       "      <td>http://www.w3.org/2004/02/skos/core#broadMatch</td>\n",
       "      <td>http://vocab.getty.edu/aat/300054328</td>\n",
       "      <td>archaeology</td>\n",
       "    </tr>\n",
       "    <tr>\n",
       "      <td>http://semantics.gr/authorities/SSH-LCSH/sh85101308</td>\n",
       "      <td>Photography in archaeology</td>\n",
       "      <td>http://www.w3.org/2004/02/skos/core#broadMatch</td>\n",
       "      <td>http://vocab.getty.edu/aat/300054328</td>\n",
       "      <td>archaeology</td>\n",
       "    </tr>\n",
       "    <tr>\n",
       "      <td>http://semantics.gr/authorities/SSH-LCSH/sh2006000287</td>\n",
       "      <td>Medical archaeology</td>\n",
       "      <td>http://www.w3.org/2004/02/skos/core#broadMatch</td>\n",
       "      <td>http://vocab.getty.edu/aat/300054328</td>\n",
       "      <td>archaeology</td>\n",
       "    </tr>\n",
       "    <tr>\n",
       "      <td>http://semantics.gr/authorities/SSH-LCSH/sh98005996</td>\n",
       "      <td>Metallurgy in archaeology</td>\n",
       "      <td>http://www.w3.org/2004/02/skos/core#broadMatch</td>\n",
       "      <td>http://vocab.getty.edu/aat/300054328</td>\n",
       "      <td>archaeology</td>\n",
       "    </tr>\n",
       "    <tr>\n",
       "      <td>http://semantics.gr/authorities/SSH-LCSH/sh85057439</td>\n",
       "      <td>Grotesque</td>\n",
       "      <td>http://www.w3.org/2004/02/skos/core#broadMatch</td>\n",
       "      <td>http://vocab.getty.edu/aat/300010206</td>\n",
       "      <td>arabesques</td>\n",
       "    </tr>\n",
       "    <tr>\n",
       "      <td>http://semantics.gr/authorities/SSH-LCSH/sh85028846</td>\n",
       "      <td>Comedy films</td>\n",
       "      <td>http://www.w3.org/2004/02/skos/core#broadMatch</td>\n",
       "      <td>http://vocab.getty.edu/aat/300136900</td>\n",
       "      <td>motion pictures</td>\n",
       "    </tr>\n",
       "    <tr>\n",
       "      <td>http://semantics.gr/authorities/SSH-LCSH/sh2001000474</td>\n",
       "      <td></td>\n",
       "      <td>http://www.w3.org/2004/02/skos/core#broadMatch</td>\n",
       "      <td>http://vocab.getty.edu/aat/300136900</td>\n",
       "      <td>motion pictures</td>\n",
       "    </tr>\n",
       "    <tr>\n",
       "      <td>http://semantics.gr/authorities/SSH-LCSH/sh2019000547</td>\n",
       "      <td>Slapstick comedy films</td>\n",
       "      <td>http://www.w3.org/2004/02/skos/core#broadMatch</td>\n",
       "      <td>http://vocab.getty.edu/aat/300136900</td>\n",
       "      <td>motion pictures</td>\n",
       "    </tr>\n",
       "    <tr>\n",
       "      <td>http://semantics.gr/authorities/SSH-LCSH/sh2004001046</td>\n",
       "      <td>Romantic comedy films</td>\n",
       "      <td>http://www.w3.org/2004/02/skos/core#broadMatch</td>\n",
       "      <td>http://vocab.getty.edu/aat/300136900</td>\n",
       "      <td>motion pictures</td>\n",
       "    </tr>\n",
       "    <tr>\n",
       "      <td>http://semantics.gr/authorities/SSH-LCSH/sh85022625</td>\n",
       "      <td>Characters and characteristics in motion pictures</td>\n",
       "      <td>http://www.w3.org/2004/02/skos/core#broadMatch</td>\n",
       "      <td>http://vocab.getty.edu/aat/300136900</td>\n",
       "      <td>motion pictures</td>\n",
       "    </tr>\n",
       "    <tr>\n",
       "      <td>http://semantics.gr/authorities/SSH-LCSH/sh85146254</td>\n",
       "      <td>Western films</td>\n",
       "      <td>http://www.w3.org/2004/02/skos/core#broadMatch</td>\n",
       "      <td>http://vocab.getty.edu/aat/300136900</td>\n",
       "      <td>motion pictures</td>\n",
       "    </tr>\n",
       "    <tr>\n",
       "      <td>http://semantics.gr/authorities/SSH-LCSH/sh85045994</td>\n",
       "      <td>Evidence</td>\n",
       "      <td>http://www.w3.org/2004/02/skos/core#broadMatch</td>\n",
       "      <td>http://vocab.getty.edu/aat/300055982</td>\n",
       "      <td>faith</td>\n",
       "    </tr>\n",
       "  </tbody>\n",
       "</table>"
      ],
      "text/plain": [
       "<IPython.core.display.HTML object>"
      ]
     },
     "metadata": {},
     "output_type": "display_data"
    }
   ],
   "source": [
    "# display some of the mappings produced for review\n",
    "# Note SSH-LCSH records showing a blank label are just those where there is no English\n",
    "# preferred label present in the vocabulary, the mapping still works regardless of this\n",
    "import pandas as pd\n",
    "from IPython.display import display, HTML\n",
    "df = pd.DataFrame(mappings)\n",
    "display(HTML(df.fillna(\"\").to_html(index=False, header=False, max_rows=25)))"
   ]
  },
  {
   "cell_type": "code",
   "execution_count": 85,
   "metadata": {},
   "outputs": [
    {
     "name": "stdout",
     "output_type": "stream",
     "text": [
      "398 unmapped [last run 2024-04-18T11:46:00Z]\n"
     ]
    }
   ],
   "source": [
    "# list the remaining records not mapped (TODO: not tested in notebook yet, and output to DataFRame)\n",
    "query = \"\"\"\n",
    "    PREFIX skos: <http://www.w3.org/2004/02/skos/core#>\n",
    "    PREFIX gvp: <http://vocab.getty.edu/ontology#>\n",
    "    SELECT DISTINCT ?ssh_uri (str(?lbl) AS ?label) WHERE {\n",
    "    ?ssh_uri a skos:Concept .\n",
    "    OPTIONAL { \n",
    "        ?ssh_uri skos:prefLabel ?lbl . \n",
    "        FILTER(langMatches(lang(?lbl), \"en\")) \n",
    "    }\n",
    "    MINUS { ?ssh_uri ?property [a gvp:Concept] }\n",
    "    }\n",
    "\"\"\"\n",
    "unmapped = graph.query(query)\n",
    "unmapped.serialize(destination=\"./data/SSH-LCSH-nomatch-AAT.csv\", format=\"csv\")\n",
    "\n",
    "print(f\"{len(unmapped)} unmapped [last run {timestamp()}]\")"
   ]
  },
  {
   "cell_type": "code",
   "execution_count": 86,
   "metadata": {},
   "outputs": [
    {
     "data": {
      "text/html": [
       "<table border=\"1\" class=\"dataframe\">\n",
       "  <tbody>\n",
       "    <tr>\n",
       "      <td>http://semantics.gr/authorities/SSH-LCSH/sh85116920</td>\n",
       "      <td>Salvadoran literature</td>\n",
       "    </tr>\n",
       "    <tr>\n",
       "      <td>http://semantics.gr/authorities/SSH-LCSH/sh85072864</td>\n",
       "      <td>Komi-Permyak literature</td>\n",
       "    </tr>\n",
       "    <tr>\n",
       "      <td>http://semantics.gr/authorities/SSH-LCSH/sh85057146</td>\n",
       "      <td>Greek essays, Modern</td>\n",
       "    </tr>\n",
       "    <tr>\n",
       "      <td>http://semantics.gr/authorities/SSH-LCSH/sh85048416</td>\n",
       "      <td>Finnish literature</td>\n",
       "    </tr>\n",
       "    <tr>\n",
       "      <td>http://semantics.gr/authorities/SSH-LCSH/sh85054380</td>\n",
       "      <td>German literature</td>\n",
       "    </tr>\n",
       "    <tr>\n",
       "      <td>http://semantics.gr/authorities/SSH-LCSH/sh88005294</td>\n",
       "      <td>Rwanda, Literatures</td>\n",
       "    </tr>\n",
       "    <tr>\n",
       "      <td>http://semantics.gr/authorities/SSH-LCSH/sh85086828</td>\n",
       "      <td>Mongolian literature</td>\n",
       "    </tr>\n",
       "    <tr>\n",
       "      <td>http://semantics.gr/authorities/SSH-LCSH/sh85119451</td>\n",
       "      <td>Sects</td>\n",
       "    </tr>\n",
       "    <tr>\n",
       "      <td>http://semantics.gr/authorities/SSH-LCSH/sh85028528</td>\n",
       "      <td>Colombian literature</td>\n",
       "    </tr>\n",
       "    <tr>\n",
       "      <td>http://semantics.gr/authorities/SSH-LCSH/sh85073564</td>\n",
       "      <td></td>\n",
       "    </tr>\n",
       "    <tr>\n",
       "      <td>http://semantics.gr/authorities/SSH-LCSH/sh85126289</td>\n",
       "      <td>Spanish poetry</td>\n",
       "    </tr>\n",
       "    <tr>\n",
       "      <td>http://semantics.gr/authorities/SSH-LCSH/sh2012000722</td>\n",
       "      <td>Moldova, Literatures</td>\n",
       "    </tr>\n",
       "    <tr>\n",
       "      <td>...</td>\n",
       "      <td>...</td>\n",
       "    </tr>\n",
       "    <tr>\n",
       "      <td>http://semantics.gr/authorities/SSH-LCSH/sh85088202</td>\n",
       "      <td>Mozarabic literature</td>\n",
       "    </tr>\n",
       "    <tr>\n",
       "      <td>http://semantics.gr/authorities/SSH-LCSH/sh85048827</td>\n",
       "      <td>Fishes and civilization</td>\n",
       "    </tr>\n",
       "    <tr>\n",
       "      <td>http://semantics.gr/authorities/SSH-LCSH/sh93000337</td>\n",
       "      <td>Georgia (Republic), Literatures</td>\n",
       "    </tr>\n",
       "    <tr>\n",
       "      <td>http://semantics.gr/authorities/SSH-LCSH/sh85058031</td>\n",
       "      <td>Guyanese literature</td>\n",
       "    </tr>\n",
       "    <tr>\n",
       "      <td>http://semantics.gr/authorities/SSH-LCSH/sh85029572</td>\n",
       "      <td>Computers and civilization</td>\n",
       "    </tr>\n",
       "    <tr>\n",
       "      <td>http://semantics.gr/authorities/SSH-LCSH/sh85068790</td>\n",
       "      <td>Italian drama (Comedy)</td>\n",
       "    </tr>\n",
       "    <tr>\n",
       "      <td>http://semantics.gr/authorities/SSH-LCSH/sh91005682</td>\n",
       "      <td>Faroe Islands, Literatures</td>\n",
       "    </tr>\n",
       "    <tr>\n",
       "      <td>http://semantics.gr/authorities/SSH-LCSH/sh85001064</td>\n",
       "      <td>Advent sermons</td>\n",
       "    </tr>\n",
       "    <tr>\n",
       "      <td>http://semantics.gr/authorities/SSH-LCSH/sh93000280</td>\n",
       "      <td>Bosnian literature</td>\n",
       "    </tr>\n",
       "    <tr>\n",
       "      <td>http://semantics.gr/authorities/SSH-LCSH/sh85084519</td>\n",
       "      <td>Mexican literature</td>\n",
       "    </tr>\n",
       "    <tr>\n",
       "      <td>http://semantics.gr/authorities/SSH-LCSH/sh85129380</td>\n",
       "      <td>Style, Musical</td>\n",
       "    </tr>\n",
       "    <tr>\n",
       "      <td>http://semantics.gr/authorities/SSH-LCSH/sh85053375</td>\n",
       "      <td>Gascon literature</td>\n",
       "    </tr>\n",
       "  </tbody>\n",
       "</table>"
      ],
      "text/plain": [
       "<IPython.core.display.HTML object>"
      ]
     },
     "metadata": {},
     "output_type": "display_data"
    }
   ],
   "source": [
    "# display the unmapped recordss here for review\n",
    "import pandas as pd\n",
    "from IPython.display import display, HTML\n",
    "df = pd.DataFrame(unmapped)\n",
    "display(HTML(df.fillna(\"\").to_html(index=False, header=False, max_rows=25)))"
   ]
  },
  {
   "cell_type": "code",
   "execution_count": 87,
   "metadata": {},
   "outputs": [
    {
     "name": "stdout",
     "output_type": "stream",
     "text": [
      "4136 results [last run 2024-04-18T11:46:01Z]\n"
     ]
    }
   ],
   "source": [
    "# get the generated mappings as RDF NTriples\n",
    "query = \"\"\"\n",
    "    PREFIX skos: <http://www.w3.org/2004/02/skos/core#>\n",
    "    PREFIX gvp: <http://vocab.getty.edu/ontology#>\n",
    "    CONSTRUCT { ?ssh_uri ?rel ?aat_uri }\n",
    "    WHERE {\n",
    "    ?ssh_uri skos:closeMatch|skos:broadMatch ?aat_uri .\n",
    "    ?ssh_uri a skos:Concept . \n",
    "    ?aat_uri a gvp:Concept .\n",
    "    ?ssh_uri ?rel ?aat_uri . \n",
    "    } \n",
    "\"\"\"\n",
    "results = graph.query(query)\n",
    "results.serialize(destination=\"./data/SSH-LCSH-match-AAT.nt\", format=\"nt\")\n",
    "\n",
    "print(f\"{len(results)} results [last run {timestamp()}]\")"
   ]
  }
 ],
 "metadata": {
  "kernelspec": {
   "display_name": "Python 3",
   "language": "python",
   "name": "python3"
  },
  "language_info": {
   "codemirror_mode": {
    "name": "ipython",
    "version": 3
   },
   "file_extension": ".py",
   "mimetype": "text/x-python",
   "name": "python",
   "nbconvert_exporter": "python",
   "pygments_lexer": "ipython3",
   "version": "3.12.3"
  }
 },
 "nbformat": 4,
 "nbformat_minor": 2
}
