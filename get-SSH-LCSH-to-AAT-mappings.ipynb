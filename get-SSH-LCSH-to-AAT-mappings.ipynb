{
 "cells": [
  {
   "cell_type": "markdown",
   "metadata": {},
   "source": [
    "# Mapping from SSH-LCSH to Getty AAT\n",
    "This notebook demonstrates how we used Wikidata information to derive mappings from \"Triples\" vocabulary (SSH-LCSH) concepts to Getty Art & Architecture Thesaurus (AAT) concepts. The following diagram illustrates 4 ways that mappings are generated based on the presence of links in Wikidata records referencing both LCSH and AAT resources.\n",
    "\n",
    "<img src=\"generating-mappings.png\" style=\"width: 70%; height: 70%\">\n",
    "\n",
    "The SSH-LCSH vocabulary is based on a subset of the Library of Congress Subject Headings (LCSH). There is a 1:1 mapping between SSH-LCSH concepts and LCSH concepts. Wikidata contains certain records that reference both LCSH and AAT concepts. We extract this information and use it to generate direct mappings between SSH-LCSH and AAT concepts. \n",
    "\n",
    "Before proceeding, first install (specific versions of) prerequisite Python library dependencies:"
   ]
  },
  {
   "cell_type": "code",
   "execution_count": 1,
   "metadata": {},
   "outputs": [],
   "source": [
    "%%capture\n",
    "# load required dependencies\n",
    "%pip install --upgrade pip\n",
    "%pip install -r \"./requirements.txt\""
   ]
  },
  {
   "cell_type": "code",
   "execution_count": 2,
   "metadata": {},
   "outputs": [],
   "source": [
    "\"\"\"\n",
    "=============================================================================\n",
    "Module    : get-SSH-LCSH-to-AAT-mappings.ipynb\n",
    "Classes   : \n",
    "Project   : ATRIUM\n",
    "Creator   : Ceri Binding, University of South Wales / Prifysgol de Cymru\n",
    "Contact   : ceri.binding@southwales.ac.uk\n",
    "Summary   : Python notebook using Wikidata to generate semantic mappings \n",
    "            from \"Triple\" vocabulary (SSH-LCSH) \n",
    "            to Getty Art & Architecture Thesaurus (AAT)\n",
    "            SSH-LCSH: https://www.semantics.gr/authorities/vocabularies/SSH-LCSH \n",
    "            AAT: https://vocab.getty.edu/aat\n",
    "Imports   : os, requests, pyoxigraph, pathlib, rdflib, SPARQLWrapper, datetime\n",
    "License   : https://github.com/cbinding/ATRIUM-data/blob/main/LICENSE.txt\n",
    "=============================================================================\n",
    "History\n",
    "18/02/2024 CFB Initially created script\n",
    "17/01/2025 CFB Improved SPARQL queries\n",
    "=============================================================================\n",
    "\"\"\"\n",
    "# import required library modules\n",
    "import os\n",
    "import requests\n",
    "from pyoxigraph import *\n",
    "from pathlib import Path\n",
    "from rdflib import ConjunctiveGraph, URIRef, Literal\n",
    "from SPARQLWrapper import SPARQLWrapper, RDFXML\n",
    "from datetime import datetime as DT\n",
    "\n",
    "\n",
    "# function to run a SPARQL query against specified external endpoint\n",
    "# returnFormat supports \"xml\", \"n3\", \"turtle\", \"nt\" (default), \"pretty-xml\", \"trix\", \"trig\", \"nquads\", \"json-ld\" and \"hext\"\n",
    "def querySparqlEndpoint(endpointURI: str=\"\", sparqlQuery: str=\"\", returnFormat: str=\"nt\"):\n",
    "  sparql = SPARQLWrapper(endpointURI)\n",
    "  sparql.setQuery(sparqlQuery)\n",
    "  sparql.setMethod(\"POST\")\n",
    "  sparql.setReturnFormat(RDFXML) # we return RDFXML then convert it to required return format below\n",
    "  results = sparql.queryAndConvert()\n",
    "  return results.serialize(format=returnFormat) \n",
    "\n",
    "\n",
    "# general function returning timestamp as a string (no allowance for timezone)\n",
    "def timestamp():\n",
    "  return DT.now().strftime('%Y-%m-%dT%H:%M:%SZ')  "
   ]
  },
  {
   "cell_type": "markdown",
   "metadata": {},
   "source": [
    "### Cache the Triple vocabulary (SSH-LCSH)\n",
    "The [TRIPLE Vocabulary ](https://doi.org/10.12681/semantics.gr/SSH-LCSH) (SSH-LCSH) is a multilingual vocabulary based on a subset of Library of Congress Subject Headings (LCSH). The site reports the SSH-LCSH vocabulary currently (at 16/01/2025) contains 3375 semantic resources (concepts). Download the vocabulary data (here using NTriples RDF format) and save to a local cache file. This only needs to run once, but may be re-run to refresh the local cache file to pick up any changes in the SSH-LCSH data in future."
   ]
  },
  {
   "cell_type": "code",
   "execution_count": 3,
   "metadata": {},
   "outputs": [
    {
     "name": "stdout",
     "output_type": "stream",
     "text": [
      "[last run 2025-01-17T11:06:55Z]\n"
     ]
    }
   ],
   "source": [
    "url = \"https://www.semantics.gr/authorities/vocabularies/SSH-LCSH/n-triples\"\n",
    "response = requests.get(url, timeout=30)\n",
    "with open(\"./data/SSH-LCSH.nt\", \"w\") as file:\n",
    "    file.write(response.text)\n",
    "\n",
    "print(f\"[last run {timestamp()}]\")"
   ]
  },
  {
   "cell_type": "markdown",
   "metadata": {},
   "source": [
    "### Cache Getty AAT URIs and associated preferred labels\n",
    "Query the [Getty vocabularies SPARQL endpoint](https://vocab.getty.edu/sparql) to retrieve Art &amp; Architecture Thesaurus (AAT) concept URIs with associated preferred labels (English), and save to a cached NTRiples format RDF file. The labels are only used for review of the mappings produced later (Note result count reported here is min 2 triples per concept). This only needs to run once, but may be re-run to pick up any changes in the AAT data in future."
   ]
  },
  {
   "cell_type": "code",
   "execution_count": 4,
   "metadata": {},
   "outputs": [
    {
     "name": "stdout",
     "output_type": "stream",
     "text": [
      "116753 results [last run 2025-01-17T11:07:08Z]\n"
     ]
    }
   ],
   "source": [
    "# Getty AAT SPARQL query to get prefLabels (English) for each Concept (saved as NTriples output)\n",
    "query = \"\"\"\n",
    "PREFIX skos: <http://www.w3.org/2004/02/skos/core#>\n",
    "PREFIX gvp: <http://vocab.getty.edu/ontology#>\n",
    "CONSTRUCT { \n",
    "  ?uri skos:prefLabel ?lbl . \n",
    "  ?uri a gvp:Concept .\n",
    "}\n",
    "WHERE {\n",
    " ?uri a gvp:Concept; skos:inScheme aat:; gvp:prefLabelGVP [gvp:term ?lbl] .\n",
    " FILTER(langMatches(lang(?lbl), \"en\"))\n",
    "}\n",
    "\"\"\"\n",
    "results = querySparqlEndpoint(\n",
    "  endpointURI=\"https://vocab.getty.edu/sparql\", \n",
    "  sparqlQuery=query, \n",
    "  returnFormat=\"nt\"\n",
    ")\n",
    "with open(\"./data/AAT-prefLabels.nt\", \"w\") as file: \n",
    "  file.write(results)\n",
    "  \n",
    "counter = len(results.split(\"\\n\"))\n",
    "print(f\"{counter} results [last run {timestamp()}]\")"
   ]
  },
  {
   "cell_type": "markdown",
   "metadata": {},
   "source": [
    "### Identify close mappings between LCSH and AAT\n",
    "Query the Wikidata SPARQL endpoint (https://query.wikidata.org/) to retrieve &lt;LCSH URI&gt; skos:closeMatch &lt;AAT URI&gt; mappings and save them to an NTriples format RDF file. The mappings are generated from Wikidata records referencing both LCSH and AAT identifier properties. Note: Wikidata LCSH URIs retrieved using the wdtn:P244 property may be prefixed 'http://id.loc.gov/authorities/names/' or 'http://id.loc.gov/authorities/' or 'http://id.loc.gov/authorities/subjects/' - to ensure a match to the LCSH URIs as referenced in SSH-LCSH vocabulary, we are concatenating the latter prefix to the LCSH concept identifier, rather than relying on the URI as retrieved from Wikidata."
   ]
  },
  {
   "cell_type": "code",
   "execution_count": 5,
   "metadata": {},
   "outputs": [
    {
     "name": "stdout",
     "output_type": "stream",
     "text": [
      "8048 results [last run 2025-01-17T11:07:14Z]\n"
     ]
    }
   ],
   "source": [
    "# Wikidata SPARQL query to generate LCSH-closeMatch-AAT mappings (saved as NTriples output)\n",
    "query = \"\"\"\n",
    "PREFIX skos: <http://www.w3.org/2004/02/skos/core#>\n",
    "PREFIX gvp: <http://vocab.getty.edu/ontology#>\n",
    "CONSTRUCT { ?lcsh_uri skos:closeMatch ?aat_uri }\n",
    "WHERE { \n",
    "  ?wd_uri wdt:P244 ?lcsh_id; wdtn:P1014 ?aat_uri .\n",
    "  BIND(IRI(CONCAT('http://id.loc.gov/authorities/subjects/', ?lcsh_id)) AS ?lcsh_uri) .\n",
    "}\n",
    "\"\"\"\n",
    "\n",
    "# run the query against the Wikidata SPARQL endpoint\n",
    "results = querySparqlEndpoint(\n",
    "  endpointURI=\"https://query.wikidata.org/sparql\", \n",
    "  sparqlQuery=query, \n",
    "  returnFormat=\"nt\"\n",
    ")\n",
    "\n",
    "# write the results to NTriples RDF file\n",
    "with open(\"./data/LCSH-closeMatch-AAT.nt\", \"w\") as file: \n",
    "  file.write(results)\n",
    "\n",
    "# Display the number of results retrieved\n",
    "counter = len(results.split(\"\\n\"))\n",
    "print(f\"{counter} results [last run {timestamp()}]\")"
   ]
  },
  {
   "cell_type": "markdown",
   "metadata": {},
   "source": [
    "### Identify broad mappings between LCSH and AAT\n",
    "Query the Wikidata SPARQL endpoint to retrieve &lt;LCSH&gt; skos:broadMatch &lt;AAT URI&gt; mappings and save them to an NTriples format RDF file. These mappings are generated from Wikidata records referencing LCSH but not AAT, and being a subclass of _another_ Wikidata record having an AAT identifier property. Note: Same caveat as above regarding prefixing the LCSH identifiers."
   ]
  },
  {
   "cell_type": "code",
   "execution_count": 7,
   "metadata": {},
   "outputs": [
    {
     "name": "stdout",
     "output_type": "stream",
     "text": [
      "10028 results [last run 2025-01-17T11:08:28Z]\n"
     ]
    }
   ],
   "source": [
    "# Wikidata SPARQL query to generate LCSH-broadMatch-AAT mappings (saved as NTriples output)\n",
    "query = \"\"\"\n",
    "PREFIX skos: <http://www.w3.org/2004/02/skos/core#>\n",
    "CONSTRUCT { ?lcsh_uri skos:broadMatch ?aat_uri }\n",
    "WHERE { \n",
    "  ?wd_uri wdt:P244 ?lcsh_id ; wdt:P279 [ wdtn:P1014 ?aat_uri ] .\n",
    "  MINUS { ?wd_uri wdtn:P1014 ?x }   \n",
    "  BIND(IRI(CONCAT('http://id.loc.gov/authorities/subjects/', ?lcsh_id)) AS ?lcsh_uri) .\n",
    "}\n",
    "\"\"\"\n",
    "\n",
    "# run the query against the Wikidata SPARQL endpoint\n",
    "results = querySparqlEndpoint(\n",
    "  endpointURI=\"https://query.wikidata.org/sparql\", \n",
    "  sparqlQuery=query, \n",
    "  returnFormat=\"nt\"\n",
    ")\n",
    "\n",
    "# write the results to NTriples RDF file\n",
    "with open(\"./data/LCSH-broadMatch-AAT.nt\", \"w\") as file: \n",
    "  file.write(results)\n",
    "\n",
    "# Display the number of results retrieved\n",
    "counter = len(results.split(\"\\n\"))\n",
    "print(f\"{counter} results [last run {timestamp()}]\")"
   ]
  },
  {
   "cell_type": "markdown",
   "metadata": {},
   "source": [
    "### Combine all to an RDF graph instance for subsequent querying\n",
    "Combine the SSH-LCSH vocabulary, the AAT data and the LCSH -&gt; AAT mappings (NTriples format RDF files) to an rdflib ConjunctiveGraph instance. "
   ]
  },
  {
   "cell_type": "code",
   "execution_count": 51,
   "metadata": {},
   "outputs": [
    {
     "data": {
      "text/plain": [
       "<Graph identifier=Na3c57fefd9a3412ead2341ee7473674b (<class 'rdflib.graph.Graph'>)>"
      ]
     },
     "execution_count": 51,
     "metadata": {},
     "output_type": "execute_result"
    }
   ],
   "source": [
    "graph = ConjunctiveGraph(store=\"Oxigraph\") # speed advantage over plain rdflib.Graph\n",
    "# persisting to disk. Not strictly necessary here though\n",
    "# if not os.path.isdir(os.path.join(os.getcwd(), \"graph_dir\")): graph.open(\"graph_dir\")\n",
    "# import RDF files\n",
    "graph.parse(\"./data/SSH-LCSH.nt\")\n",
    "graph.parse(\"./data/AAT-prefLabels.nt\")\n",
    "graph.parse(\"./data/LCSH-closeMatch-AAT.nt\")\n",
    "graph.parse(\"./data/LCSH-broadMatch-AAT.nt\")"
   ]
  },
  {
   "cell_type": "markdown",
   "metadata": {},
   "source": [
    "## Fix target LCSH URIs before proceeding \n",
    "SSH-LCSH (Triples vocab) data may occasionally specify skos:exactMatch to a deprecated LCSH concept URI:\n",
    "e.g. <http://semantics.gr/authorities/SSH-LCSH/sh98005996> skos:exactMatch <http://id.loc.gov/authorities/subjects/sh2014001211> .\n",
    "the LCSH target SHOULD be <http://id.loc.gov/authorities/subjects/sh98005996> - so construct additional triples \n",
    "to ensure we have <SSH-LCSH> skos:exactMatch <LCSH> relationship - identifying the correct target URI\n",
    "use LCSH URI prefix and SSH-LCSH identifier to produce (e.g.) \"http://id.loc.gov/authorities/subjects/sh98005996\""
   ]
  },
  {
   "cell_type": "code",
   "execution_count": 53,
   "metadata": {},
   "outputs": [
    {
     "name": "stdout",
     "output_type": "stream",
     "text": [
      "3375 results [last run 2025-01-17T12:29:48Z]\n"
     ]
    }
   ],
   "source": [
    "# \n",
    "query = \"\"\"\n",
    "  PREFIX skos: <http://www.w3.org/2004/02/skos/core#>\n",
    "  PREFIX gvp: <http://vocab.getty.edu/ontology#>\n",
    "  CONSTRUCT { ?ssh_uri skos:exactMatch ?lcsh_uri }\n",
    "  WHERE {    \n",
    "    ?ssh_uri a skos:Concept .   \n",
    "    BIND(STRAFTER(STR(?ssh_uri), \"http://semantics.gr/authorities/SSH-LCSH/\") AS ?id) .\n",
    "    BIND(IRI(CONCAT(\"http://id.loc.gov/authorities/subjects/\", ?id)) AS ?lcsh_uri) .\n",
    "}\n",
    "\"\"\"\n",
    "results = graph.query(query)\n",
    "\n",
    "# save the resultant constructed triples to an NTriples RDF format text file\n",
    "results.serialize(destination=\"./data/SSH-LCSH-exactMatch-LCSH.nt\", format=\"nt\")\n",
    "\n",
    "# add the resultant constructed triples back into the existing graph\n",
    "graph.parse(\"./data/SSH-LCSH-exactMatch-LCSH.nt\")\n",
    "\n",
    "# function to check how many SSH-LCSH concepts remain unmapped\n",
    "def countUnmappedConcepts():\n",
    "    query = \"\"\"\n",
    "        PREFIX skos: <http://www.w3.org/2004/02/skos/core#>\n",
    "        PREFIX gvp: <http://vocab.getty.edu/ontology#>\n",
    "        SELECT (COUNT(DISTINCT ?ssh_uri) AS ?counter) WHERE {\n",
    "        ?ssh_uri a skos:Concept .\n",
    "        MINUS { ?ssh_uri ?property [a gvp:Concept] }\n",
    "        }\n",
    "    \"\"\"\n",
    "    output = graph.query(query)\n",
    "    # we only want the count (maybe a better way to do this?)\n",
    "    for result in output:\n",
    "        return result[0]\n",
    "        break  \n",
    "\n",
    "# should be 3375 results (1 per SSH-LCSH concept)\n",
    "print(f\"{len(results)} results [last run {timestamp()}]\")"
   ]
  },
  {
   "cell_type": "markdown",
   "metadata": {},
   "source": [
    "### Generate SSH-LCSH to AAT mappings\n",
    "Use the LCSH-closeMatch-AAT mappings to produce &lt;SSH-LCSH&gt; skos:closeMatch &lt;AAT&gt; mappings. Save results to an NTriples RDF file, then import the newly produced mappings back into the graph triple store."
   ]
  },
  {
   "cell_type": "code",
   "execution_count": 54,
   "metadata": {},
   "outputs": [
    {
     "name": "stdout",
     "output_type": "stream",
     "text": [
      "366 results. 2980 unmapped concepts [last run 2025-01-17T12:29:59Z]\n"
     ]
    }
   ],
   "source": [
    "# create SSH-LCSH closeMatch AAT relationships based on Wikidata LCSH to AAT relationships\n",
    "query = \"\"\"\n",
    "  PREFIX skos: <http://www.w3.org/2004/02/skos/core#>\n",
    "  PREFIX gvp: <http://vocab.getty.edu/ontology#>\n",
    "  CONSTRUCT { ?ssh_uri skos:closeMatch ?aat_uri }\n",
    "  WHERE {\n",
    "    ?ssh_uri a skos:Concept; skos:exactMatch ?lcsh_uri .\n",
    "    ?lcsh_uri skos:closeMatch ?aat_uri .\n",
    "    ?aat_uri a gvp:Concept .\n",
    "    MINUS { ?ssh_uri ?property [a gvp:Concept] }\n",
    "}\n",
    "\"\"\"\n",
    "results = graph.query(query)\n",
    "\n",
    "# save the resultant constructed mappings to an NTriples RDF format text file\n",
    "results.serialize(destination=\"./data/SSH-LCSH-closeMatch-AAT.nt\", format=\"nt\")\n",
    "\n",
    "# add these mappings back into the existing graph\n",
    "graph.parse(\"./data/SSH-LCSH-closeMatch-AAT.nt\")\n",
    "\n",
    "# display number of results and number of SSH-LCSH concepts that remain unmapped\n",
    "unmapped = countUnmappedConcepts()\n",
    "print(f\"{len(results)} results. {unmapped} unmapped concepts [last run {timestamp()}]\")"
   ]
  },
  {
   "cell_type": "markdown",
   "metadata": {},
   "source": [
    "For remaining SSH-LCSH concepts not yet mapped, create &lt;SSH-LCSH&gt; skos:broadMatch &lt;AAT&gt; relationships where possible"
   ]
  },
  {
   "cell_type": "code",
   "execution_count": 55,
   "metadata": {},
   "outputs": [
    {
     "name": "stdout",
     "output_type": "stream",
     "text": [
      "431 results. 2639 unmapped concepts [last run 2025-01-17T12:30:05Z]\n"
     ]
    }
   ],
   "source": [
    "# create SSH-LCSH broadMatch AAT relationships based on Wikidata LCSH to AAT relationships\n",
    "query = \"\"\"\n",
    "  PREFIX skos: <http://www.w3.org/2004/02/skos/core#>\n",
    "  PREFIX gvp: <http://vocab.getty.edu/ontology#>\n",
    "  CONSTRUCT { ?ssh_uri skos:broadMatch ?aat_uri }\n",
    "  WHERE {\n",
    "    ?ssh_uri a skos:Concept; skos:exactMatch ?lcsh_uri .\n",
    "    ?lcsh_uri skos:broadMatch ?aat_uri .\n",
    "    ?aat_uri a gvp:Concept .\n",
    "    MINUS { ?ssh_uri ?property [a gvp:Concept] }\n",
    "}\n",
    "\"\"\"\n",
    "results = graph.query(query)\n",
    "\n",
    "# save the resultant constructed mappings to an NTriples RDF format text file\n",
    "results.serialize(destination=\"./data/SSH-LCSH-broadMatch-AAT-A.nt\", format=\"nt\")\n",
    "\n",
    "# add these mappings back into the existing graph\n",
    "graph.parse(\"./data/SSH-LCSH-broadMatch-AAT-A.nt\")\n",
    "\n",
    "# display number of results and number of SSH-LCSH concepts that remain unmapped\n",
    "unmapped = countUnmappedConcepts()\n",
    "print(f\"{len(results)} results. {unmapped} unmapped concepts [last run {timestamp()}]\")"
   ]
  },
  {
   "cell_type": "markdown",
   "metadata": {},
   "source": [
    "For remaining SSH-LCSH concepts not yet mapped, if the parent SSH-LCSH concept has a skos:closeMatch mapping to an AAT concept, create &lt;SSH-LCSH&gt; skos:broadMatch &lt;AAT&gt; mapping "
   ]
  },
  {
   "cell_type": "code",
   "execution_count": 56,
   "metadata": {},
   "outputs": [
    {
     "name": "stdout",
     "output_type": "stream",
     "text": [
      "2399 results. 592 unmapped concepts [last run 2025-01-17T12:30:14Z]\n"
     ]
    }
   ],
   "source": [
    "# create skos:broadMatch relationships for concepts\n",
    "# not yet mapped, using vocabulary broader relationship\n",
    "query = \"\"\"\n",
    "  PREFIX skos: <http://www.w3.org/2004/02/skos/core#>\n",
    "  PREFIX gvp: <http://vocab.getty.edu/ontology#>\n",
    "  CONSTRUCT { ?ssh_uri skos:broadMatch ?aat_uri }\n",
    "  WHERE {\n",
    "    ?ssh_uri a skos:Concept; skos:broader ?broader_uri .\n",
    "    ?broader_uri a skos:Concept; skos:closeMatch ?aat_uri .\n",
    "    ?aat_uri a gvp:Concept .\n",
    "    MINUS { ?ssh_uri ?property [a gvp:Concept] }\n",
    "  }\n",
    "\"\"\"\n",
    "results = graph.query(query)\n",
    "\n",
    "# save the resultant constructed mappings to an NTriples RDF format text file\n",
    "results.serialize(destination=\"./data/SSH-LCSH-broadMatch-AAT-B.nt\", format=\"nt\")\n",
    "\n",
    "# add the resultant mappings back into the existing graph\n",
    "graph.parse(\"./data/SSH-LCSH-broadMatch-AAT-B.nt\")\n",
    "\n",
    "# display number of results and number of SSH-LCSH concepts that remain unmapped\n",
    "unmapped = countUnmappedConcepts()\n",
    "print(f\"{len(results)} results. {unmapped} unmapped concepts [last run {timestamp()}]\")"
   ]
  },
  {
   "cell_type": "markdown",
   "metadata": {},
   "source": [
    "For remaining SSH-LCSH concepts not yet mapped, if the parent SSH-LCSH concept has a skos:broadMatch mapping to an AAT concept, create &lt;SSH-LCSH&gt; skos:relatedMatch &lt;AAT&gt; mapping "
   ]
  },
  {
   "cell_type": "code",
   "execution_count": 57,
   "metadata": {},
   "outputs": [
    {
     "name": "stdout",
     "output_type": "stream",
     "text": [
      "344 results. 310 unmapped concepts [last run 2025-01-17T12:30:24Z]\n"
     ]
    }
   ],
   "source": [
    "# create skos:relatedMatch relationships for concepts\n",
    "# not yet mapped, using vocabulary broader relationship\n",
    "query = \"\"\"\n",
    "  PREFIX skos: <http://www.w3.org/2004/02/skos/core#>\n",
    "  PREFIX gvp: <http://vocab.getty.edu/ontology#>\n",
    "  CONSTRUCT { ?ssh_uri skos:relatedMatch ?aat_uri }\n",
    "  WHERE {\n",
    "    ?ssh_uri a skos:Concept; skos:broader ?broader_uri .\n",
    "    ?broader_uri a skos:Concept; skos:broadMatch ?aat_uri .\n",
    "    ?aat_uri a gvp:Concept .\n",
    "    MINUS { ?ssh_uri ?property [a gvp:Concept] }\n",
    "  }\n",
    "\"\"\"\n",
    "results = graph.query(query)\n",
    "\n",
    "# save the resultant constructed mappings to an NTriples RDF format text file\n",
    "results.serialize(destination=\"./data/SSH-LCSH-relatedMatch-AAT.nt\", format=\"nt\")\n",
    "\n",
    "# add the resultant mappings back into the existing graph\n",
    "graph.parse(\"./data/SSH-LCSH-relatedMatch-AAT.nt\")\n",
    "\n",
    "# display number of results and number of SSH-LCSH concepts that remain unmapped\n",
    "unmapped = countUnmappedConcepts()\n",
    "print(f\"{len(results)} results. {unmapped} unmapped concepts [last run {timestamp()}]\")"
   ]
  },
  {
   "cell_type": "markdown",
   "metadata": {},
   "source": [
    "### Create output for review\n",
    "Create a CSV listing of the mappings created, for manual review"
   ]
  },
  {
   "cell_type": "code",
   "execution_count": 58,
   "metadata": {},
   "outputs": [
    {
     "name": "stdout",
     "output_type": "stream",
     "text": [
      "3589 mappings [last run 2025-01-17T12:30:46Z]\n"
     ]
    }
   ],
   "source": [
    "# list the mappings created (for review)\n",
    "query = \"\"\"\n",
    "    PREFIX skos: <http://www.w3.org/2004/02/skos/core#>\n",
    "    PREFIX gvp: <http://vocab.getty.edu/ontology#>\n",
    "    SELECT DISTINCT ?ssh_uri (str(?ssh_lbl) AS ?ssh_label) ?rel ?aat_uri (str(?aat_lbl) AS ?aat_label)    \n",
    "    WHERE {\n",
    "        ?ssh_uri skos:closeMatch|skos:broadMatch|skos:relatedMatch ?aat_uri . \n",
    "        ?ssh_uri a skos:Concept .\n",
    "        ?aat_uri a gvp:Concept .         \n",
    "        ?ssh_uri ?rel ?aat_uri .        \n",
    "        OPTIONAL { \n",
    "            ?ssh_uri skos:prefLabel ?ssh_lbl . \n",
    "            FILTER(langMatches(lang(?ssh_lbl), \"en\")) \n",
    "        }\n",
    "        OPTIONAL { \n",
    "            ?aat_uri skos:prefLabel ?aat_lbl . \n",
    "            FILTER(langMatches(lang(?aat_lbl), \"en\")) \n",
    "        }\n",
    "    }\n",
    "\"\"\"\n",
    "mappings = graph.query(query)\n",
    "mappings.serialize(destination=\"./data/SSH-LCSH-matched-AAT.csv\", format=\"csv\")\n",
    "\n",
    "print(f\"{len(mappings)} mappings [last run {timestamp()}]\")"
   ]
  },
  {
   "cell_type": "markdown",
   "metadata": {},
   "source": [
    "Display a subset of the mappings produced, for review. Note any SSH-LCSH records showing a blank label are concepts having no English preferred label present in the vocabulary, the mapping still works regardless of this"
   ]
  },
  {
   "cell_type": "code",
   "execution_count": 59,
   "metadata": {},
   "outputs": [
    {
     "data": {
      "text/html": [
       "<table border=\"1\" class=\"dataframe\">\n",
       "  <tbody>\n",
       "    <tr>\n",
       "      <td>http://semantics.gr/authorities/SSH-LCSH/sh85028889</td>\n",
       "      <td></td>\n",
       "      <td>http://www.w3.org/2004/02/skos/core#closeMatch</td>\n",
       "      <td>http://vocab.getty.edu/aat/300055912</td>\n",
       "      <td>commedia dell'arte</td>\n",
       "    </tr>\n",
       "    <tr>\n",
       "      <td>http://semantics.gr/authorities/SSH-LCSH/sh85081863</td>\n",
       "      <td>Mass media</td>\n",
       "      <td>http://www.w3.org/2004/02/skos/core#closeMatch</td>\n",
       "      <td>http://vocab.getty.edu/aat/300055812</td>\n",
       "      <td>mass media</td>\n",
       "    </tr>\n",
       "    <tr>\n",
       "      <td>http://semantics.gr/authorities/SSH-LCSH/sh85066150</td>\n",
       "      <td>Information science</td>\n",
       "      <td>http://www.w3.org/2004/02/skos/core#closeMatch</td>\n",
       "      <td>http://vocab.getty.edu/aat/300054574</td>\n",
       "      <td>information science</td>\n",
       "    </tr>\n",
       "    <tr>\n",
       "      <td>http://semantics.gr/authorities/SSH-LCSH/sh85076723</td>\n",
       "      <td>Library science</td>\n",
       "      <td>http://www.w3.org/2004/02/skos/core#closeMatch</td>\n",
       "      <td>http://vocab.getty.edu/aat/300054576</td>\n",
       "      <td>library science</td>\n",
       "    </tr>\n",
       "    <tr>\n",
       "      <td>http://semantics.gr/authorities/SSH-LCSH/sh85108411</td>\n",
       "      <td>Psychoanalysis</td>\n",
       "      <td>http://www.w3.org/2004/02/skos/core#closeMatch</td>\n",
       "      <td>http://vocab.getty.edu/aat/300054450</td>\n",
       "      <td>psychoanalysis</td>\n",
       "    </tr>\n",
       "    <tr>\n",
       "      <td>http://semantics.gr/authorities/SSH-LCSH/sh85148092</td>\n",
       "      <td>Word (Linguistics)</td>\n",
       "      <td>http://www.w3.org/2004/02/skos/core#closeMatch</td>\n",
       "      <td>http://vocab.getty.edu/aat/300250895</td>\n",
       "      <td>words</td>\n",
       "    </tr>\n",
       "    <tr>\n",
       "      <td>http://semantics.gr/authorities/SSH-LCSH/sh85036316</td>\n",
       "      <td>Decorative arts</td>\n",
       "      <td>http://www.w3.org/2004/02/skos/core#closeMatch</td>\n",
       "      <td>http://vocab.getty.edu/aat/300054168</td>\n",
       "      <td>decorative arts</td>\n",
       "    </tr>\n",
       "    <tr>\n",
       "      <td>http://semantics.gr/authorities/SSH-LCSH/sh85119950</td>\n",
       "      <td>Semiotics</td>\n",
       "      <td>http://www.w3.org/2004/02/skos/core#closeMatch</td>\n",
       "      <td>http://vocab.getty.edu/aat/300054254</td>\n",
       "      <td>semiotics</td>\n",
       "    </tr>\n",
       "    <tr>\n",
       "      <td>http://semantics.gr/authorities/SSH-LCSH/sh85015738</td>\n",
       "      <td>Books</td>\n",
       "      <td>http://www.w3.org/2004/02/skos/core#closeMatch</td>\n",
       "      <td>http://vocab.getty.edu/aat/300028051</td>\n",
       "      <td>books</td>\n",
       "    </tr>\n",
       "    <tr>\n",
       "      <td>http://semantics.gr/authorities/SSH-LCSH/sh85006611</td>\n",
       "      <td>Architecture</td>\n",
       "      <td>http://www.w3.org/2004/02/skos/core#closeMatch</td>\n",
       "      <td>http://vocab.getty.edu/aat/300263552</td>\n",
       "      <td>architecture</td>\n",
       "    </tr>\n",
       "    <tr>\n",
       "      <td>http://semantics.gr/authorities/SSH-LCSH/sh89004185</td>\n",
       "      <td>Puppet theater</td>\n",
       "      <td>http://www.w3.org/2004/02/skos/core#closeMatch</td>\n",
       "      <td>http://vocab.getty.edu/aat/300248147</td>\n",
       "      <td>puppetry</td>\n",
       "    </tr>\n",
       "    <tr>\n",
       "      <td>http://semantics.gr/authorities/SSH-LCSH/sh86004693</td>\n",
       "      <td>Wearable art</td>\n",
       "      <td>http://www.w3.org/2004/02/skos/core#closeMatch</td>\n",
       "      <td>http://vocab.getty.edu/aat/300419259</td>\n",
       "      <td>wearable art</td>\n",
       "    </tr>\n",
       "    <tr>\n",
       "      <td>http://semantics.gr/authorities/SSH-LCSH/sh85112623</td>\n",
       "      <td>Religious drama</td>\n",
       "      <td>http://www.w3.org/2004/02/skos/core#closeMatch</td>\n",
       "      <td>http://vocab.getty.edu/aat/300055913</td>\n",
       "      <td>religious drama</td>\n",
       "    </tr>\n",
       "    <tr>\n",
       "      <td>http://semantics.gr/authorities/SSH-LCSH/sh85074518</td>\n",
       "      <td>Language and languages</td>\n",
       "      <td>http://www.w3.org/2004/02/skos/core#closeMatch</td>\n",
       "      <td>http://vocab.getty.edu/aat/300055193</td>\n",
       "      <td>language</td>\n",
       "    </tr>\n",
       "    <tr>\n",
       "      <td>http://semantics.gr/authorities/SSH-LCSH/sh85061192</td>\n",
       "      <td>Historical linguistics</td>\n",
       "      <td>http://www.w3.org/2004/02/skos/core#closeMatch</td>\n",
       "      <td>http://vocab.getty.edu/aat/300389745</td>\n",
       "      <td>ancient languages</td>\n",
       "    </tr>\n",
       "    <tr>\n",
       "      <td>...</td>\n",
       "      <td>...</td>\n",
       "      <td>...</td>\n",
       "      <td>...</td>\n",
       "      <td>...</td>\n",
       "    </tr>\n",
       "    <tr>\n",
       "      <td>http://semantics.gr/authorities/SSH-LCSH/sh85074262</td>\n",
       "      <td>Lamps, Classical</td>\n",
       "      <td>http://www.w3.org/2004/02/skos/core#relatedMatch</td>\n",
       "      <td>http://vocab.getty.edu/aat/300311592</td>\n",
       "      <td>antiquities</td>\n",
       "    </tr>\n",
       "    <tr>\n",
       "      <td>http://semantics.gr/authorities/SSH-LCSH/sh85008053</td>\n",
       "      <td>Art objects, Classical</td>\n",
       "      <td>http://www.w3.org/2004/02/skos/core#relatedMatch</td>\n",
       "      <td>http://vocab.getty.edu/aat/300311592</td>\n",
       "      <td>antiquities</td>\n",
       "    </tr>\n",
       "    <tr>\n",
       "      <td>http://semantics.gr/authorities/SSH-LCSH/sh85007611</td>\n",
       "      <td>Art, Classical</td>\n",
       "      <td>http://www.w3.org/2004/02/skos/core#relatedMatch</td>\n",
       "      <td>http://vocab.getty.edu/aat/300311592</td>\n",
       "      <td>antiquities</td>\n",
       "    </tr>\n",
       "    <tr>\n",
       "      <td>http://semantics.gr/authorities/SSH-LCSH/sh85137904</td>\n",
       "      <td>Tripods</td>\n",
       "      <td>http://www.w3.org/2004/02/skos/core#relatedMatch</td>\n",
       "      <td>http://vocab.getty.edu/aat/300311592</td>\n",
       "      <td>antiquities</td>\n",
       "    </tr>\n",
       "    <tr>\n",
       "      <td>http://semantics.gr/authorities/SSH-LCSH/sh85007690</td>\n",
       "      <td>Art, Greek</td>\n",
       "      <td>http://www.w3.org/2004/02/skos/core#relatedMatch</td>\n",
       "      <td>http://vocab.getty.edu/aat/300311592</td>\n",
       "      <td>antiquities</td>\n",
       "    </tr>\n",
       "    <tr>\n",
       "      <td>http://semantics.gr/authorities/SSH-LCSH/sh85007869</td>\n",
       "      <td>Art, Roman</td>\n",
       "      <td>http://www.w3.org/2004/02/skos/core#relatedMatch</td>\n",
       "      <td>http://vocab.getty.edu/aat/300311592</td>\n",
       "      <td>antiquities</td>\n",
       "    </tr>\n",
       "    <tr>\n",
       "      <td>http://semantics.gr/authorities/SSH-LCSH/sh85122617</td>\n",
       "      <td>Silver figurines, Classical</td>\n",
       "      <td>http://www.w3.org/2004/02/skos/core#relatedMatch</td>\n",
       "      <td>http://vocab.getty.edu/aat/300311592</td>\n",
       "      <td>antiquities</td>\n",
       "    </tr>\n",
       "    <tr>\n",
       "      <td>http://semantics.gr/authorities/SSH-LCSH/sh85093262</td>\n",
       "      <td>Numismatics, Greek</td>\n",
       "      <td>http://www.w3.org/2004/02/skos/core#relatedMatch</td>\n",
       "      <td>http://vocab.getty.edu/aat/300311592</td>\n",
       "      <td>antiquities</td>\n",
       "    </tr>\n",
       "    <tr>\n",
       "      <td>http://semantics.gr/authorities/SSH-LCSH/sh85022355</td>\n",
       "      <td>Chairs (Sella)</td>\n",
       "      <td>http://www.w3.org/2004/02/skos/core#relatedMatch</td>\n",
       "      <td>http://vocab.getty.edu/aat/300311592</td>\n",
       "      <td>antiquities</td>\n",
       "    </tr>\n",
       "    <tr>\n",
       "      <td>http://semantics.gr/authorities/SSH-LCSH/sh85055721</td>\n",
       "      <td>Gold figurines, Classical</td>\n",
       "      <td>http://www.w3.org/2004/02/skos/core#relatedMatch</td>\n",
       "      <td>http://vocab.getty.edu/aat/300311592</td>\n",
       "      <td>antiquities</td>\n",
       "    </tr>\n",
       "    <tr>\n",
       "      <td>http://semantics.gr/authorities/SSH-LCSH/sh85022354</td>\n",
       "      <td>Chairs (Cathedra)</td>\n",
       "      <td>http://www.w3.org/2004/02/skos/core#relatedMatch</td>\n",
       "      <td>http://vocab.getty.edu/aat/300311592</td>\n",
       "      <td>antiquities</td>\n",
       "    </tr>\n",
       "    <tr>\n",
       "      <td>http://semantics.gr/authorities/SSH-LCSH/sh85114860</td>\n",
       "      <td>Role playing</td>\n",
       "      <td>http://www.w3.org/2004/02/skos/core#relatedMatch</td>\n",
       "      <td>http://vocab.getty.edu/aat/300054452</td>\n",
       "      <td>social psychology</td>\n",
       "    </tr>\n",
       "    <tr>\n",
       "      <td>http://semantics.gr/authorities/SSH-LCSH/sh2001000474</td>\n",
       "      <td></td>\n",
       "      <td>http://www.w3.org/2004/02/skos/core#relatedMatch</td>\n",
       "      <td>http://vocab.getty.edu/aat/300136900</td>\n",
       "      <td>motion pictures</td>\n",
       "    </tr>\n",
       "    <tr>\n",
       "      <td>http://semantics.gr/authorities/SSH-LCSH/sh2019000547</td>\n",
       "      <td>Slapstick comedy films</td>\n",
       "      <td>http://www.w3.org/2004/02/skos/core#relatedMatch</td>\n",
       "      <td>http://vocab.getty.edu/aat/300136900</td>\n",
       "      <td>motion pictures</td>\n",
       "    </tr>\n",
       "    <tr>\n",
       "      <td>http://semantics.gr/authorities/SSH-LCSH/sh2004001046</td>\n",
       "      <td>Romantic comedy films</td>\n",
       "      <td>http://www.w3.org/2004/02/skos/core#relatedMatch</td>\n",
       "      <td>http://vocab.getty.edu/aat/300136900</td>\n",
       "      <td>motion pictures</td>\n",
       "    </tr>\n",
       "  </tbody>\n",
       "</table>"
      ],
      "text/plain": [
       "<IPython.core.display.HTML object>"
      ]
     },
     "metadata": {},
     "output_type": "display_data"
    }
   ],
   "source": [
    "# display a subset of the mappings produced for review. Records with no SSH-LCSH label displayed indicates \n",
    "# there is no English preferred label for the concept in SSH-LCSH, but this does not affect the mapping\n",
    "import pandas as pd\n",
    "from IPython.display import display, HTML\n",
    "df = pd.DataFrame(mappings)\n",
    "display(HTML(df.fillna(\"\").to_html(index=False, header=False, max_rows=30)))"
   ]
  },
  {
   "cell_type": "markdown",
   "metadata": {},
   "source": [
    "Produce a CSV listing of the remaining SSH-LCSH concepts not yet mapped, for manual review"
   ]
  },
  {
   "cell_type": "code",
   "execution_count": 60,
   "metadata": {},
   "outputs": [
    {
     "name": "stdout",
     "output_type": "stream",
     "text": [
      "310 unmapped [last run 2025-01-17T12:30:55Z]\n"
     ]
    }
   ],
   "source": [
    "# list the remaining records not mapped\n",
    "query = \"\"\"\n",
    "    PREFIX skos: <http://www.w3.org/2004/02/skos/core#>\n",
    "    PREFIX gvp: <http://vocab.getty.edu/ontology#>\n",
    "    SELECT DISTINCT ?ssh_uri (str(?lbl) AS ?label) WHERE {\n",
    "    ?ssh_uri a skos:Concept .\n",
    "    OPTIONAL { \n",
    "        ?ssh_uri skos:prefLabel ?lbl . \n",
    "        FILTER(langMatches(lang(?lbl), \"en\")) \n",
    "    }\n",
    "    MINUS { ?ssh_uri ?property [a gvp:Concept] }\n",
    "    }\n",
    "\"\"\"\n",
    "unmapped = graph.query(query)\n",
    "unmapped.serialize(destination=\"./data/SSH-LCSH-nomatch-AAT.csv\", format=\"csv\")\n",
    "\n",
    "print(f\"{len(unmapped)} unmapped [last run {timestamp()}]\")"
   ]
  },
  {
   "cell_type": "markdown",
   "metadata": {},
   "source": [
    "Display a subset of the unmapped SSH-LCSH concepts here, for review."
   ]
  },
  {
   "cell_type": "code",
   "execution_count": 61,
   "metadata": {},
   "outputs": [
    {
     "data": {
      "text/html": [
       "<table border=\"1\" class=\"dataframe\">\n",
       "  <tbody>\n",
       "    <tr>\n",
       "      <td>http://semantics.gr/authorities/SSH-LCSH/sh85116920</td>\n",
       "      <td>Salvadoran literature</td>\n",
       "    </tr>\n",
       "    <tr>\n",
       "      <td>http://semantics.gr/authorities/SSH-LCSH/sh85072864</td>\n",
       "      <td>Komi-Permyak literature</td>\n",
       "    </tr>\n",
       "    <tr>\n",
       "      <td>http://semantics.gr/authorities/SSH-LCSH/sh85057146</td>\n",
       "      <td>Greek essays, Modern</td>\n",
       "    </tr>\n",
       "    <tr>\n",
       "      <td>http://semantics.gr/authorities/SSH-LCSH/sh85054380</td>\n",
       "      <td>German literature</td>\n",
       "    </tr>\n",
       "    <tr>\n",
       "      <td>http://semantics.gr/authorities/SSH-LCSH/sh88005294</td>\n",
       "      <td>Rwanda, Literatures</td>\n",
       "    </tr>\n",
       "    <tr>\n",
       "      <td>http://semantics.gr/authorities/SSH-LCSH/sh85119451</td>\n",
       "      <td>Sects</td>\n",
       "    </tr>\n",
       "    <tr>\n",
       "      <td>http://semantics.gr/authorities/SSH-LCSH/sh85073564</td>\n",
       "      <td></td>\n",
       "    </tr>\n",
       "    <tr>\n",
       "      <td>http://semantics.gr/authorities/SSH-LCSH/sh85126289</td>\n",
       "      <td>Spanish poetry</td>\n",
       "    </tr>\n",
       "    <tr>\n",
       "      <td>http://semantics.gr/authorities/SSH-LCSH/sh2012000722</td>\n",
       "      <td>Moldova, Literatures</td>\n",
       "    </tr>\n",
       "    <tr>\n",
       "      <td>http://semantics.gr/authorities/SSH-LCSH/sh85025095</td>\n",
       "      <td>Christian life</td>\n",
       "    </tr>\n",
       "    <tr>\n",
       "      <td>http://semantics.gr/authorities/SSH-LCSH/sh2002005701</td>\n",
       "      <td>Wild Man of Orford (Legendary character)</td>\n",
       "    </tr>\n",
       "    <tr>\n",
       "      <td>http://semantics.gr/authorities/SSH-LCSH/sh2019101432</td>\n",
       "      <td>Judeo-Italian literature</td>\n",
       "    </tr>\n",
       "    <tr>\n",
       "      <td>...</td>\n",
       "      <td>...</td>\n",
       "    </tr>\n",
       "    <tr>\n",
       "      <td>http://semantics.gr/authorities/SSH-LCSH/sh85139256</td>\n",
       "      <td>Udmurt literature</td>\n",
       "    </tr>\n",
       "    <tr>\n",
       "      <td>http://semantics.gr/authorities/SSH-LCSH/sh85100245</td>\n",
       "      <td>Peruvian literature</td>\n",
       "    </tr>\n",
       "    <tr>\n",
       "      <td>http://semantics.gr/authorities/SSH-LCSH/sh85025891</td>\n",
       "      <td>Chuvash literature</td>\n",
       "    </tr>\n",
       "    <tr>\n",
       "      <td>http://semantics.gr/authorities/SSH-LCSH/sh85088202</td>\n",
       "      <td>Mozarabic literature</td>\n",
       "    </tr>\n",
       "    <tr>\n",
       "      <td>http://semantics.gr/authorities/SSH-LCSH/sh93000337</td>\n",
       "      <td>Georgia (Republic), Literatures</td>\n",
       "    </tr>\n",
       "    <tr>\n",
       "      <td>http://semantics.gr/authorities/SSH-LCSH/sh85058031</td>\n",
       "      <td>Guyanese literature</td>\n",
       "    </tr>\n",
       "    <tr>\n",
       "      <td>http://semantics.gr/authorities/SSH-LCSH/sh85068790</td>\n",
       "      <td>Italian drama (Comedy)</td>\n",
       "    </tr>\n",
       "    <tr>\n",
       "      <td>http://semantics.gr/authorities/SSH-LCSH/sh91005682</td>\n",
       "      <td>Faroe Islands, Literatures</td>\n",
       "    </tr>\n",
       "    <tr>\n",
       "      <td>http://semantics.gr/authorities/SSH-LCSH/sh85001064</td>\n",
       "      <td>Advent sermons</td>\n",
       "    </tr>\n",
       "    <tr>\n",
       "      <td>http://semantics.gr/authorities/SSH-LCSH/sh93000280</td>\n",
       "      <td>Bosnian literature</td>\n",
       "    </tr>\n",
       "    <tr>\n",
       "      <td>http://semantics.gr/authorities/SSH-LCSH/sh85084519</td>\n",
       "      <td>Mexican literature</td>\n",
       "    </tr>\n",
       "    <tr>\n",
       "      <td>http://semantics.gr/authorities/SSH-LCSH/sh85053375</td>\n",
       "      <td>Gascon literature</td>\n",
       "    </tr>\n",
       "  </tbody>\n",
       "</table>"
      ],
      "text/plain": [
       "<IPython.core.display.HTML object>"
      ]
     },
     "metadata": {},
     "output_type": "display_data"
    }
   ],
   "source": [
    "# display the unmapped records here for review\n",
    "import pandas as pd\n",
    "from IPython.display import display, HTML\n",
    "df = pd.DataFrame(unmapped)\n",
    "display(HTML(df.fillna(\"\").to_html(index=False, header=False, max_rows=25)))"
   ]
  },
  {
   "cell_type": "markdown",
   "metadata": {},
   "source": [
    "Create a listing of all generated mappings in [TriG](https://www.w3.org/TR/trig/) RDF format"
   ]
  },
  {
   "cell_type": "code",
   "execution_count": 62,
   "metadata": {},
   "outputs": [
    {
     "name": "stdout",
     "output_type": "stream",
     "text": [
      "3588 results [last run 2025-01-17T12:31:10Z]\n"
     ]
    }
   ],
   "source": [
    "from rdflib.namespace import XSD\n",
    "\n",
    "# remove the named graph of mappings if it already exists\n",
    "graphURI = \"http://mappings-SSH-LCSH-to-AAT/\"\n",
    "mappings = graph.get_context(URIRef(graphURI))\n",
    "graph.remove_context(mappings)\n",
    "\n",
    "# get the generated mappings as RDF NTriples\n",
    "query = \"\"\"\n",
    "    PREFIX skos: <http://www.w3.org/2004/02/skos/core#>\n",
    "    PREFIX gvp: <http://vocab.getty.edu/ontology#>\n",
    "    CONSTRUCT { ?ssh_uri ?rel ?aat_uri }\n",
    "    WHERE {  \n",
    "    ?ssh_uri skos:closeMatch|skos:broadMatch|skos:relatedMatch ?aat_uri .\n",
    "    ?ssh_uri a skos:Concept . \n",
    "    ?aat_uri a gvp:Concept .\n",
    "    ?ssh_uri ?rel ?aat_uri . \n",
    "    } \n",
    "\"\"\"\n",
    "results = graph.query(query)\n",
    "# add named graph URI to each result for subsequent quads output\n",
    "results = list(map(lambda t: t + (graphURI,), results))\n",
    "# add the mappings (now quads) to the triple store\n",
    "graph.addN(results)\n",
    "\n",
    "# add some metadata to the named graph of mappings\n",
    "graph.addN([\n",
    "    (\n",
    "        URIRef(graphURI),\n",
    "        URIRef(\"http://purl.org/dc/elements/1.1/identifier\"),\n",
    "        Literal(graphURI),\n",
    "        URIRef(graphURI),\n",
    "    ),    \n",
    "    (\n",
    "        URIRef(graphURI),\n",
    "        URIRef(\"http://purl.org/dc/elements/1.1/date\"),\n",
    "        Literal(timestamp(), datatype=XSD.date),\n",
    "        URIRef(graphURI),\n",
    "    ),\n",
    "    (\n",
    "        URIRef(graphURI),\n",
    "        URIRef(\"http://purl.org/dc/elements/1.1/source\"),\n",
    "        Literal(\"https://query.wikidata.org/\"),\n",
    "        URIRef(graphURI),\n",
    "    ),    \n",
    "    (\n",
    "        URIRef(graphURI),\n",
    "        URIRef(\"http://purl.org/dc/elements/1.1/title\"),\n",
    "        Literal(\"SSH-LCSH-to-AAT mappings\"),\n",
    "        URIRef(graphURI),\n",
    "    ),\n",
    "    (\n",
    "        URIRef(graphURI),\n",
    "        URIRef(\"http://purl.org/dc/elements/1.1/description\"),\n",
    "        Literal(\"SSH-LCSH-to-AAT mappings generated from Wikidata\"),\n",
    "        URIRef(graphURI),\n",
    "    ),\n",
    "    (\n",
    "        URIRef(graphURI),\n",
    "        URIRef(\"http://purl.org/dc/elements/1.1/format\"),\n",
    "        Literal(\"application/trig\"),\n",
    "        URIRef(graphURI),\n",
    "    )\n",
    "])\n",
    "\n",
    "\n",
    "# export the entire named graph of mappings to TRIG format RDF file\n",
    "mappings = graph.get_context(URIRef(graphURI))\n",
    "mappings.serialize(destination=\"./data/SSH-LCSH-matched-AAT.trig\", format=\"trig\")\n",
    "\n",
    "print(f\"{len(results)} results [last run {timestamp()}]\")"
   ]
  }
 ],
 "metadata": {
  "kernelspec": {
   "display_name": "Python 3",
   "language": "python",
   "name": "python3"
  },
  "language_info": {
   "codemirror_mode": {
    "name": "ipython",
    "version": 3
   },
   "file_extension": ".py",
   "mimetype": "text/x-python",
   "name": "python",
   "nbconvert_exporter": "python",
   "pygments_lexer": "ipython3",
   "version": "3.12.3"
  }
 },
 "nbformat": 4,
 "nbformat_minor": 2
}
